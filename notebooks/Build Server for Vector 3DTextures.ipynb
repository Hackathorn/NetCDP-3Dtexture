{
 "cells": [
  {
   "cell_type": "markdown",
   "metadata": {},
   "source": [
    "<img align=\"right\" width=\"200\" height=\"200\" src=\"tornado3d.jpg\">\n",
    "\n",
    "# Build WebAPI Server for Force Vector Rendering With Unity 3DTextures\n",
    "\n",
    "The goal is to convert [NetCDF](https://www.unidata.ucar.edu/software/netcdf/) & [GRIB](https://en.wikipedia.org/wiki/GRIB) datasets into force vector fields for rendering as [3DTextures](https://docs.unity3d.com/Manual/class-Texture3D.html) in [Unity Visual Effect Graphs](https://unity.com/visual-effect-graph).\n",
    "\n",
    "TO-DO...\n",
    "* Load NetCDF and GRIB examples\n",
    "* Dump attributes\n",
    "* Strip UVW array ...\n"
   ]
  },
  {
   "cell_type": "code",
   "execution_count": null,
   "metadata": {},
   "outputs": [],
   "source": []
  },
  {
   "cell_type": "code",
   "execution_count": null,
   "metadata": {},
   "outputs": [],
   "source": [
    "################## for possible future use \n",
    "\n",
    "# Downloading and unzipping a web Zip file without writing to disk\n",
    "# from https://stackoverflow.com/questions/5710867/downloading-and-unzipping-a-zip-file-without-writing-to-disk\n",
    "\n",
    "# from Zudo on 20170208  \n",
    "from io import BytesIO\n",
    "from zipfile import ZipFile\n",
    "import urllib.request\n",
    "\n",
    "    url = urllib.request.urlopen(\"http://www.unece.org/fileadmin/DAM/cefact/locode/loc162txt.zip\")\n",
    "\n",
    "    with ZipFile(BytesIO(url.read())) as my_zip_file:\n",
    "        for contained_file in my_zip_file.namelist():\n",
    "            # with open((\"unzipped_and_read_\" + contained_file + \".file\"), \"wb\") as output:\n",
    "            for line in my_zip_file.open(contained_file).readlines():\n",
    "                print(line)\n",
    "                # output.write(line)\n",
    "\n",
    "# from lababidi on 20160118 to handle multiple files in Zip\n",
    "from io import BytesIO\n",
    "from zipfile import ZipFile\n",
    "import requests\n",
    "\n",
    "def get_zip(file_url):\n",
    "    url = requests.get(file_url)\n",
    "    zipfile = ZipFile(BytesIO(url.content))\n",
    "    zip_names = zipfile.namelist()\n",
    "    if len(zip_names) == 1:\n",
    "        file_name = zip_names.pop()\n",
    "        extracted_file = zipfile.open(file_name)\n",
    "        return extracted_file\n",
    "    return [zipfile.open(file_name) for file_name in zip_names]\n"
   ]
  }
 ],
 "metadata": {
  "kernelspec": {
   "display_name": "Python 3",
   "language": "python",
   "name": "python3"
  },
  "language_info": {
   "codemirror_mode": {
    "name": "ipython",
    "version": 3
   },
   "file_extension": ".py",
   "mimetype": "text/x-python",
   "name": "python",
   "nbconvert_exporter": "python",
   "pygments_lexer": "ipython3",
   "version": "3.7.7"
  }
 },
 "nbformat": 4,
 "nbformat_minor": 4
}
