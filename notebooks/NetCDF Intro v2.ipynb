{
 "cells": [
  {
   "cell_type": "markdown",
   "metadata": {},
   "source": [
    "<img align=\"right\" width=\"200\" height=\"200\" src=\"../images/tornado3d.jpg\">\n",
    "\n",
    "# Using NetCDF File and Creating 3D Textures\n",
    "\n",
    "Dervived from tutorial at https://unidata.github.io/netcdf4-python/netCDF4/ \n",
    "\n",
    "Example NetCDF dataset is a synthetic tornado 'tornado3d.nc' taken from https://cgl.ethz.ch/research/visualization/data.php\n",
    "\n",
    "NOTE: might consider Xarray "
   ]
  },
  {
   "cell_type": "markdown",
   "metadata": {},
   "source": [
    "## Read the NetCDF Dataset as NC object\n",
    "\n",
    "- Import requrired modules/packages\n",
    "- Scan for NC files in /data folder\n",
    "- Open a sample NC file & explore groups, dimensions, variables\n",
    "- "
   ]
  },
  {
   "cell_type": "code",
   "execution_count": null,
   "metadata": {},
   "outputs": [],
   "source": [
    "# Import required modules\n",
    "\n",
    "import datetime as dt  # Python standard library datetime  module\n",
    "import numpy as np\n",
    "from netCDF4 import Dataset  "
   ]
  },
  {
   "cell_type": "code",
   "execution_count": null,
   "metadata": {},
   "outputs": [],
   "source": []
  },
  {
   "cell_type": "code",
   "execution_count": null,
   "metadata": {},
   "outputs": [],
   "source": [
    "# Open NC dataset as binary\n",
    "\n",
    "nc = Dataset(\"tornado3d.nc\", \"a\")\n",
    "nc"
   ]
  },
  {
   "cell_type": "code",
   "execution_count": null,
   "metadata": {},
   "outputs": [],
   "source": [
    "nc.__dict__"
   ]
  },
  {
   "cell_type": "code",
   "execution_count": null,
   "metadata": {},
   "outputs": [],
   "source": [
    "# List groups within dataset. Seems only one unnamed group \n",
    "nc.groups"
   ]
  },
  {
   "cell_type": "code",
   "execution_count": null,
   "metadata": {},
   "outputs": [],
   "source": [
    "# Get the filepath to the NC file\n",
    "nc.filepath()"
   ]
  },
  {
   "cell_type": "code",
   "execution_count": null,
   "metadata": {},
   "outputs": [],
   "source": [
    "# Get the attributes from NC file; different than variables & dimensions\n",
    "nc.ncattrs()"
   ]
  },
  {
   "cell_type": "code",
   "execution_count": null,
   "metadata": {},
   "outputs": [],
   "source": [
    "# uninteresting...\n",
    "nc.grid"
   ]
  },
  {
   "cell_type": "code",
   "execution_count": null,
   "metadata": {},
   "outputs": [],
   "source": [
    "# interesting... dimensions for each of the nc variables\n",
    "nc.dimensions"
   ]
  },
  {
   "cell_type": "code",
   "execution_count": null,
   "metadata": {},
   "outputs": [],
   "source": [
    "nc.dimensions['xdim']"
   ]
  },
  {
   "cell_type": "code",
   "execution_count": null,
   "metadata": {},
   "outputs": [],
   "source": [
    "nc.variables.keys()"
   ]
  },
  {
   "cell_type": "code",
   "execution_count": null,
   "metadata": {},
   "outputs": [],
   "source": [
    "# deinition for a nc variable\n",
    "nc.variables['u']"
   ]
  },
  {
   "cell_type": "code",
   "execution_count": null,
   "metadata": {},
   "outputs": [],
   "source": [
    "nc.variables['xdim'][:]"
   ]
  },
  {
   "cell_type": "code",
   "execution_count": null,
   "metadata": {},
   "outputs": [],
   "source": [
    "# can view nc variable definitions as python dict types\n",
    "print(nc.variables['u'].__dict__)\n",
    "nc.variables['u'].__dict__"
   ]
  },
  {
   "cell_type": "code",
   "execution_count": null,
   "metadata": {},
   "outputs": [],
   "source": [
    "# found those wind velocity components u, v, w\n",
    "u_values = nc.variables['u']\n",
    "uvw_shape = u_values[:].shape\n",
    "uvw_shape"
   ]
  },
  {
   "cell_type": "code",
   "execution_count": null,
   "metadata": {},
   "outputs": [],
   "source": [
    "# can work with nc variables like numpy\n",
    "u_values[:3, :3, :3]"
   ]
  },
  {
   "cell_type": "code",
   "execution_count": null,
   "metadata": {},
   "outputs": [],
   "source": [
    "# can also explicitly convert nc variables into numpy; may not be needed\n",
    "u = np.array(u_values)\n",
    "print(type(u), u.shape)"
   ]
  },
  {
   "cell_type": "markdown",
   "metadata": {},
   "source": [
    "## Find min-max of u-v-w velocities"
   ]
  },
  {
   "cell_type": "code",
   "execution_count": null,
   "metadata": {},
   "outputs": [],
   "source": [
    "u = np.array(nc.variables['u'])\n",
    "v = np.array(nc.variables['v'])\n",
    "w = np.array(nc.variables['w'])"
   ]
  },
  {
   "cell_type": "code",
   "execution_count": null,
   "metadata": {},
   "outputs": [],
   "source": [
    "uvw_max = min((u.max(), v.max(), w.max()))\n",
    "uvw_max"
   ]
  },
  {
   "cell_type": "code",
   "execution_count": null,
   "metadata": {},
   "outputs": [],
   "source": [
    "uvw_min = min((u.min(), v.min(), w.min()))\n",
    "uvw_min"
   ]
  },
  {
   "cell_type": "code",
   "execution_count": null,
   "metadata": {},
   "outputs": [],
   "source": [
    "# Normalize and scale 255 for color     x_norm = 256*(X-uvw_min)/(uvw_max-uvw_min)\n",
    "\n",
    "u_norm = (255 * (u/(uvw_max-uvw_min) - (uvw_min/(uvw_max-uvw_min)))).astype(np.int)\n",
    "v_norm = (255 * (v/(uvw_max-uvw_min) - (uvw_min/(uvw_max-uvw_min)))).astype(np.int)\n",
    "w_norm = (255 * (w/(uvw_max-uvw_min) - (uvw_min/(uvw_max-uvw_min)))).astype(np.int)\n",
    "\n",
    "print(u_norm[:2,:2,:2])\n",
    "print(v_norm[:2,:2,:2])\n",
    "print(w_norm[:2,:2,:2])"
   ]
  },
  {
   "cell_type": "markdown",
   "metadata": {},
   "source": [
    "## Experiment with pyglet\n",
    "\n",
    "http://pyglet.org/ \n",
    "\n",
    "https://pyglet.readthedocs.io/en/latest/\n",
    "\n",
    "https://pyglet.readthedocs.io/en/latest/modules/image/index.html\n",
    "\n",
    "https://pythonhosted.org/pyglet/api/pyglet.image.Texture3D-class.html\n",
    "\n",
    "https://github.com/pyglet/pyglet"
   ]
  },
  {
   "cell_type": "markdown",
   "metadata": {},
   "source": [
    "## Import, load & save"
   ]
  },
  {
   "cell_type": "code",
   "execution_count": null,
   "metadata": {},
   "outputs": [],
   "source": [
    "import pyglet"
   ]
  },
  {
   "cell_type": "code",
   "execution_count": null,
   "metadata": {},
   "outputs": [],
   "source": [
    "tornado = pyglet.image.load('tornado3d.jpg') \n",
    "tornado"
   ]
  },
  {
   "cell_type": "code",
   "execution_count": null,
   "metadata": {},
   "outputs": [],
   "source": [
    "tornado.save('torando3d.png')"
   ]
  },
  {
   "cell_type": "markdown",
   "metadata": {},
   "source": [
    "## Let's create and save a 3Dtexture with pyglet"
   ]
  },
  {
   "cell_type": "code",
   "execution_count": null,
   "metadata": {},
   "outputs": [],
   "source": [
    "# create image slices k for each w\n",
    "for k in range(uvw_shape(2)):\n",
    "    slice(k) = pyglet.image.create(uvw_shape(0), uvw_shape(1))\n",
    "    # set pixels in slice(k)\n",
    "    for i in range(uvw_shape(0)):\n",
    "        for j in range (uvw_shape(1)):\n",
    "            #set red-blue-green colors in pixel(i,j,k) to u_norm[i,j,k], v_norm[i,j,k], w_norm[i,j,k]"
   ]
  },
  {
   "cell_type": "code",
   "execution_count": null,
   "metadata": {},
   "outputs": [],
   "source": [
    "from http.server import HTTPServer\n",
    "from server import Server"
   ]
  },
  {
   "cell_type": "code",
   "execution_count": null,
   "metadata": {},
   "outputs": [],
   "source": []
  }
 ],
 "metadata": {
  "kernelspec": {
   "display_name": "Python 3",
   "language": "python",
   "name": "python3"
  },
  "language_info": {
   "codemirror_mode": {
    "name": "ipython",
    "version": 3
   },
   "file_extension": ".py",
   "mimetype": "text/x-python",
   "name": "python",
   "nbconvert_exporter": "python",
   "pygments_lexer": "ipython3",
   "version": "3.7.7"
  }
 },
 "nbformat": 4,
 "nbformat_minor": 4
}
