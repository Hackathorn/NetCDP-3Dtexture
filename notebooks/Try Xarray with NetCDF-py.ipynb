{
 "cells": [
  {
   "cell_type": "markdown",
   "metadata": {},
   "source": [
    "# Try Xarray\n",
    "\n",
    "Derived from...\n",
    "* http://xarray.pydata.org/en/stable/\n",
    "* https://towardsdatascience.com/basic-data-structures-of-xarray-80bab8094efa\n",
    "* https://towardsdatascience.com/handling-netcdf-files-using-xarray-for-absolute-beginners-111a8ab4463f\n"
   ]
  },
  {
   "cell_type": "markdown",
   "metadata": {},
   "source": [
    "## Read the NetCDF Dataset as Xarray object\n",
    "\n",
    "- Import requrired modules/packages\n",
    "- Scan for NC files in /data folder\n",
    "- Open a sample NC file & explore groups, dimensions, variables\n",
    "- "
   ]
  },
  {
   "cell_type": "code",
   "execution_count": 1,
   "metadata": {},
   "outputs": [],
   "source": [
    "import numpy as np\n",
    "import pandas as pd\n",
    "import xarray as xr\n",
    "\n",
    "# define config constant (to be parms in code)\n",
    "data_path = \"../data/\"\n",
    "netCDF_extension = \"nc\""
   ]
  },
  {
   "cell_type": "code",
   "execution_count": 2,
   "metadata": {},
   "outputs": [
    {
     "data": {
      "text/html": [
       "<div><svg style=\"position: absolute; width: 0; height: 0; overflow: hidden\">\n",
       "<defs>\n",
       "<symbol id=\"icon-database\" viewBox=\"0 0 32 32\">\n",
       "<title>Show/Hide data repr</title>\n",
       "<path d=\"M16 0c-8.837 0-16 2.239-16 5v4c0 2.761 7.163 5 16 5s16-2.239 16-5v-4c0-2.761-7.163-5-16-5z\"></path>\n",
       "<path d=\"M16 17c-8.837 0-16-2.239-16-5v6c0 2.761 7.163 5 16 5s16-2.239 16-5v-6c0 2.761-7.163 5-16 5z\"></path>\n",
       "<path d=\"M16 26c-8.837 0-16-2.239-16-5v6c0 2.761 7.163 5 16 5s16-2.239 16-5v-6c0 2.761-7.163 5-16 5z\"></path>\n",
       "</symbol>\n",
       "<symbol id=\"icon-file-text2\" viewBox=\"0 0 32 32\">\n",
       "<title>Show/Hide attributes</title>\n",
       "<path d=\"M28.681 7.159c-0.694-0.947-1.662-2.053-2.724-3.116s-2.169-2.030-3.116-2.724c-1.612-1.182-2.393-1.319-2.841-1.319h-15.5c-1.378 0-2.5 1.121-2.5 2.5v27c0 1.378 1.122 2.5 2.5 2.5h23c1.378 0 2.5-1.122 2.5-2.5v-19.5c0-0.448-0.137-1.23-1.319-2.841zM24.543 5.457c0.959 0.959 1.712 1.825 2.268 2.543h-4.811v-4.811c0.718 0.556 1.584 1.309 2.543 2.268zM28 29.5c0 0.271-0.229 0.5-0.5 0.5h-23c-0.271 0-0.5-0.229-0.5-0.5v-27c0-0.271 0.229-0.5 0.5-0.5 0 0 15.499-0 15.5 0v7c0 0.552 0.448 1 1 1h7v19.5z\"></path>\n",
       "<path d=\"M23 26h-14c-0.552 0-1-0.448-1-1s0.448-1 1-1h14c0.552 0 1 0.448 1 1s-0.448 1-1 1z\"></path>\n",
       "<path d=\"M23 22h-14c-0.552 0-1-0.448-1-1s0.448-1 1-1h14c0.552 0 1 0.448 1 1s-0.448 1-1 1z\"></path>\n",
       "<path d=\"M23 18h-14c-0.552 0-1-0.448-1-1s0.448-1 1-1h14c0.552 0 1 0.448 1 1s-0.448 1-1 1z\"></path>\n",
       "</symbol>\n",
       "</defs>\n",
       "</svg>\n",
       "<style>/* CSS stylesheet for displaying xarray objects in jupyterlab.\n",
       " *\n",
       " */\n",
       "\n",
       ":root {\n",
       "  --xr-font-color0: var(--jp-content-font-color0, rgba(0, 0, 0, 1));\n",
       "  --xr-font-color2: var(--jp-content-font-color2, rgba(0, 0, 0, 0.54));\n",
       "  --xr-font-color3: var(--jp-content-font-color3, rgba(0, 0, 0, 0.38));\n",
       "  --xr-border-color: var(--jp-border-color2, #e0e0e0);\n",
       "  --xr-disabled-color: var(--jp-layout-color3, #bdbdbd);\n",
       "  --xr-background-color: var(--jp-layout-color0, white);\n",
       "  --xr-background-color-row-even: var(--jp-layout-color1, white);\n",
       "  --xr-background-color-row-odd: var(--jp-layout-color2, #eeeeee);\n",
       "}\n",
       "\n",
       ".xr-wrap {\n",
       "  min-width: 300px;\n",
       "  max-width: 700px;\n",
       "}\n",
       "\n",
       ".xr-header {\n",
       "  padding-top: 6px;\n",
       "  padding-bottom: 6px;\n",
       "  margin-bottom: 4px;\n",
       "  border-bottom: solid 1px var(--xr-border-color);\n",
       "}\n",
       "\n",
       ".xr-header > div,\n",
       ".xr-header > ul {\n",
       "  display: inline;\n",
       "  margin-top: 0;\n",
       "  margin-bottom: 0;\n",
       "}\n",
       "\n",
       ".xr-obj-type,\n",
       ".xr-array-name {\n",
       "  margin-left: 2px;\n",
       "  margin-right: 10px;\n",
       "}\n",
       "\n",
       ".xr-obj-type {\n",
       "  color: var(--xr-font-color2);\n",
       "}\n",
       "\n",
       ".xr-sections {\n",
       "  padding-left: 0 !important;\n",
       "  display: grid;\n",
       "  grid-template-columns: 150px auto auto 1fr 20px 20px;\n",
       "}\n",
       "\n",
       ".xr-section-item {\n",
       "  display: contents;\n",
       "}\n",
       "\n",
       ".xr-section-item input {\n",
       "  display: none;\n",
       "}\n",
       "\n",
       ".xr-section-item input + label {\n",
       "  color: var(--xr-disabled-color);\n",
       "}\n",
       "\n",
       ".xr-section-item input:enabled + label {\n",
       "  cursor: pointer;\n",
       "  color: var(--xr-font-color2);\n",
       "}\n",
       "\n",
       ".xr-section-item input:enabled + label:hover {\n",
       "  color: var(--xr-font-color0);\n",
       "}\n",
       "\n",
       ".xr-section-summary {\n",
       "  grid-column: 1;\n",
       "  color: var(--xr-font-color2);\n",
       "  font-weight: 500;\n",
       "}\n",
       "\n",
       ".xr-section-summary > span {\n",
       "  display: inline-block;\n",
       "  padding-left: 0.5em;\n",
       "}\n",
       "\n",
       ".xr-section-summary-in:disabled + label {\n",
       "  color: var(--xr-font-color2);\n",
       "}\n",
       "\n",
       ".xr-section-summary-in + label:before {\n",
       "  display: inline-block;\n",
       "  content: '►';\n",
       "  font-size: 11px;\n",
       "  width: 15px;\n",
       "  text-align: center;\n",
       "}\n",
       "\n",
       ".xr-section-summary-in:disabled + label:before {\n",
       "  color: var(--xr-disabled-color);\n",
       "}\n",
       "\n",
       ".xr-section-summary-in:checked + label:before {\n",
       "  content: '▼';\n",
       "}\n",
       "\n",
       ".xr-section-summary-in:checked + label > span {\n",
       "  display: none;\n",
       "}\n",
       "\n",
       ".xr-section-summary,\n",
       ".xr-section-inline-details {\n",
       "  padding-top: 4px;\n",
       "  padding-bottom: 4px;\n",
       "}\n",
       "\n",
       ".xr-section-inline-details {\n",
       "  grid-column: 2 / -1;\n",
       "}\n",
       "\n",
       ".xr-section-details {\n",
       "  display: none;\n",
       "  grid-column: 1 / -1;\n",
       "  margin-bottom: 5px;\n",
       "}\n",
       "\n",
       ".xr-section-summary-in:checked ~ .xr-section-details {\n",
       "  display: contents;\n",
       "}\n",
       "\n",
       ".xr-array-wrap {\n",
       "  grid-column: 1 / -1;\n",
       "  display: grid;\n",
       "  grid-template-columns: 20px auto;\n",
       "}\n",
       "\n",
       ".xr-array-wrap > label {\n",
       "  grid-column: 1;\n",
       "  vertical-align: top;\n",
       "}\n",
       "\n",
       ".xr-preview {\n",
       "  color: var(--xr-font-color3);\n",
       "}\n",
       "\n",
       ".xr-array-preview,\n",
       ".xr-array-data {\n",
       "  padding: 0 5px !important;\n",
       "  grid-column: 2;\n",
       "}\n",
       "\n",
       ".xr-array-data,\n",
       ".xr-array-in:checked ~ .xr-array-preview {\n",
       "  display: none;\n",
       "}\n",
       "\n",
       ".xr-array-in:checked ~ .xr-array-data,\n",
       ".xr-array-preview {\n",
       "  display: inline-block;\n",
       "}\n",
       "\n",
       ".xr-dim-list {\n",
       "  display: inline-block !important;\n",
       "  list-style: none;\n",
       "  padding: 0 !important;\n",
       "  margin: 0;\n",
       "}\n",
       "\n",
       ".xr-dim-list li {\n",
       "  display: inline-block;\n",
       "  padding: 0;\n",
       "  margin: 0;\n",
       "}\n",
       "\n",
       ".xr-dim-list:before {\n",
       "  content: '(';\n",
       "}\n",
       "\n",
       ".xr-dim-list:after {\n",
       "  content: ')';\n",
       "}\n",
       "\n",
       ".xr-dim-list li:not(:last-child):after {\n",
       "  content: ',';\n",
       "  padding-right: 5px;\n",
       "}\n",
       "\n",
       ".xr-has-index {\n",
       "  font-weight: bold;\n",
       "}\n",
       "\n",
       ".xr-var-list,\n",
       ".xr-var-item {\n",
       "  display: contents;\n",
       "}\n",
       "\n",
       ".xr-var-item > div,\n",
       ".xr-var-item label,\n",
       ".xr-var-item > .xr-var-name span {\n",
       "  background-color: var(--xr-background-color-row-even);\n",
       "  margin-bottom: 0;\n",
       "}\n",
       "\n",
       ".xr-var-item > .xr-var-name:hover span {\n",
       "  padding-right: 5px;\n",
       "}\n",
       "\n",
       ".xr-var-list > li:nth-child(odd) > div,\n",
       ".xr-var-list > li:nth-child(odd) > label,\n",
       ".xr-var-list > li:nth-child(odd) > .xr-var-name span {\n",
       "  background-color: var(--xr-background-color-row-odd);\n",
       "}\n",
       "\n",
       ".xr-var-name {\n",
       "  grid-column: 1;\n",
       "}\n",
       "\n",
       ".xr-var-dims {\n",
       "  grid-column: 2;\n",
       "}\n",
       "\n",
       ".xr-var-dtype {\n",
       "  grid-column: 3;\n",
       "  text-align: right;\n",
       "  color: var(--xr-font-color2);\n",
       "}\n",
       "\n",
       ".xr-var-preview {\n",
       "  grid-column: 4;\n",
       "}\n",
       "\n",
       ".xr-var-name,\n",
       ".xr-var-dims,\n",
       ".xr-var-dtype,\n",
       ".xr-preview,\n",
       ".xr-attrs dt {\n",
       "  white-space: nowrap;\n",
       "  overflow: hidden;\n",
       "  text-overflow: ellipsis;\n",
       "  padding-right: 10px;\n",
       "}\n",
       "\n",
       ".xr-var-name:hover,\n",
       ".xr-var-dims:hover,\n",
       ".xr-var-dtype:hover,\n",
       ".xr-attrs dt:hover {\n",
       "  overflow: visible;\n",
       "  width: auto;\n",
       "  z-index: 1;\n",
       "}\n",
       "\n",
       ".xr-var-attrs,\n",
       ".xr-var-data {\n",
       "  display: none;\n",
       "  background-color: var(--xr-background-color) !important;\n",
       "  padding-bottom: 5px !important;\n",
       "}\n",
       "\n",
       ".xr-var-attrs-in:checked ~ .xr-var-attrs,\n",
       ".xr-var-data-in:checked ~ .xr-var-data {\n",
       "  display: block;\n",
       "}\n",
       "\n",
       ".xr-var-data > table {\n",
       "  float: right;\n",
       "}\n",
       "\n",
       ".xr-var-name span,\n",
       ".xr-var-data,\n",
       ".xr-attrs {\n",
       "  padding-left: 25px !important;\n",
       "}\n",
       "\n",
       ".xr-attrs,\n",
       ".xr-var-attrs,\n",
       ".xr-var-data {\n",
       "  grid-column: 1 / -1;\n",
       "}\n",
       "\n",
       "dl.xr-attrs {\n",
       "  padding: 0;\n",
       "  margin: 0;\n",
       "  display: grid;\n",
       "  grid-template-columns: 125px auto;\n",
       "}\n",
       "\n",
       ".xr-attrs dt, dd {\n",
       "  padding: 0;\n",
       "  margin: 0;\n",
       "  float: left;\n",
       "  padding-right: 10px;\n",
       "  width: auto;\n",
       "}\n",
       "\n",
       ".xr-attrs dt {\n",
       "  font-weight: normal;\n",
       "  grid-column: 1;\n",
       "}\n",
       "\n",
       ".xr-attrs dt:hover span {\n",
       "  display: inline-block;\n",
       "  background: var(--xr-background-color);\n",
       "  padding-right: 10px;\n",
       "}\n",
       "\n",
       ".xr-attrs dd {\n",
       "  grid-column: 2;\n",
       "  white-space: pre-wrap;\n",
       "  word-break: break-all;\n",
       "}\n",
       "\n",
       ".xr-icon-database,\n",
       ".xr-icon-file-text2 {\n",
       "  display: inline-block;\n",
       "  vertical-align: middle;\n",
       "  width: 1em;\n",
       "  height: 1.5em !important;\n",
       "  stroke-width: 0;\n",
       "  stroke: currentColor;\n",
       "  fill: currentColor;\n",
       "}\n",
       "</style><div class='xr-wrap'><div class='xr-header'><div class='xr-obj-type'>xarray.DataArray</div><div class='xr-array-name'></div><ul class='xr-dim-list'><li><span class='xr-has-index'>x</span>: 2</li><li><span>y</span>: 3</li></ul></div><ul class='xr-sections'><li class='xr-section-item'><div class='xr-array-wrap'><input id='section-416041ee-9b8b-487e-8a47-6481eb73707e' class='xr-array-in' type='checkbox' ><label for='section-416041ee-9b8b-487e-8a47-6481eb73707e' title='Show/hide data repr'><svg class='icon xr-icon-database'><use xlink:href='#icon-database'></use></svg></label><div class='xr-array-preview xr-preview'><span>0.6031 1.715 0.4183 -0.2698 1.518 0.03572</span></div><pre class='xr-array-data'>array([[ 0.60309655,  1.71451747,  0.41833695],\n",
       "       [-0.26977813,  1.51762286,  0.03571842]])</pre></div></li><li class='xr-section-item'><input id='section-c1026cd1-2430-4890-a894-c0b5bdf824e0' class='xr-section-summary-in' type='checkbox'  checked><label for='section-c1026cd1-2430-4890-a894-c0b5bdf824e0' class='xr-section-summary' >Coordinates: <span>(1)</span></label><div class='xr-section-inline-details'></div><div class='xr-section-details'><ul class='xr-var-list'><li class='xr-var-item'><div class='xr-var-name'><span class='xr-has-index'>x</span></div><div class='xr-var-dims'>(x)</div><div class='xr-var-dtype'>int32</div><div class='xr-var-preview xr-preview'>10 20</div><input id='attrs-a0336c8d-41de-4756-b70c-aa483c45759d' class='xr-var-attrs-in' type='checkbox' disabled><label for='attrs-a0336c8d-41de-4756-b70c-aa483c45759d' title='Show/Hide attributes'><svg class='icon xr-icon-file-text2'><use xlink:href='#icon-file-text2'></use></svg></label><input id='data-934c40ca-f8e4-4634-9cde-926faedb020b' class='xr-var-data-in' type='checkbox'><label for='data-934c40ca-f8e4-4634-9cde-926faedb020b' title='Show/Hide data repr'><svg class='icon xr-icon-database'><use xlink:href='#icon-database'></use></svg></label><div class='xr-var-attrs'><dl class='xr-attrs'></dl></div><pre class='xr-var-data'>array([10, 20])</pre></li></ul></div></li><li class='xr-section-item'><input id='section-1361fbcf-4b04-4084-86c6-e6183654c0df' class='xr-section-summary-in' type='checkbox' disabled ><label for='section-1361fbcf-4b04-4084-86c6-e6183654c0df' class='xr-section-summary'  title='Expand/collapse section'>Attributes: <span>(0)</span></label><div class='xr-section-inline-details'></div><div class='xr-section-details'><dl class='xr-attrs'></dl></div></li></ul></div></div>"
      ],
      "text/plain": [
       "<xarray.DataArray (x: 2, y: 3)>\n",
       "array([[ 0.60309655,  1.71451747,  0.41833695],\n",
       "       [-0.26977813,  1.51762286,  0.03571842]])\n",
       "Coordinates:\n",
       "  * x        (x) int32 10 20\n",
       "Dimensions without coordinates: y"
      ]
     },
     "execution_count": 2,
     "metadata": {},
     "output_type": "execute_result"
    }
   ],
   "source": [
    "data = xr.DataArray(np.random.randn(2, 3), dims=('x', 'y'), coords={'x': [10, 20]})\n",
    "data"
   ]
  },
  {
   "cell_type": "code",
   "execution_count": 3,
   "metadata": {},
   "outputs": [
    {
     "data": {
      "text/html": [
       "<div><svg style=\"position: absolute; width: 0; height: 0; overflow: hidden\">\n",
       "<defs>\n",
       "<symbol id=\"icon-database\" viewBox=\"0 0 32 32\">\n",
       "<title>Show/Hide data repr</title>\n",
       "<path d=\"M16 0c-8.837 0-16 2.239-16 5v4c0 2.761 7.163 5 16 5s16-2.239 16-5v-4c0-2.761-7.163-5-16-5z\"></path>\n",
       "<path d=\"M16 17c-8.837 0-16-2.239-16-5v6c0 2.761 7.163 5 16 5s16-2.239 16-5v-6c0 2.761-7.163 5-16 5z\"></path>\n",
       "<path d=\"M16 26c-8.837 0-16-2.239-16-5v6c0 2.761 7.163 5 16 5s16-2.239 16-5v-6c0 2.761-7.163 5-16 5z\"></path>\n",
       "</symbol>\n",
       "<symbol id=\"icon-file-text2\" viewBox=\"0 0 32 32\">\n",
       "<title>Show/Hide attributes</title>\n",
       "<path d=\"M28.681 7.159c-0.694-0.947-1.662-2.053-2.724-3.116s-2.169-2.030-3.116-2.724c-1.612-1.182-2.393-1.319-2.841-1.319h-15.5c-1.378 0-2.5 1.121-2.5 2.5v27c0 1.378 1.122 2.5 2.5 2.5h23c1.378 0 2.5-1.122 2.5-2.5v-19.5c0-0.448-0.137-1.23-1.319-2.841zM24.543 5.457c0.959 0.959 1.712 1.825 2.268 2.543h-4.811v-4.811c0.718 0.556 1.584 1.309 2.543 2.268zM28 29.5c0 0.271-0.229 0.5-0.5 0.5h-23c-0.271 0-0.5-0.229-0.5-0.5v-27c0-0.271 0.229-0.5 0.5-0.5 0 0 15.499-0 15.5 0v7c0 0.552 0.448 1 1 1h7v19.5z\"></path>\n",
       "<path d=\"M23 26h-14c-0.552 0-1-0.448-1-1s0.448-1 1-1h14c0.552 0 1 0.448 1 1s-0.448 1-1 1z\"></path>\n",
       "<path d=\"M23 22h-14c-0.552 0-1-0.448-1-1s0.448-1 1-1h14c0.552 0 1 0.448 1 1s-0.448 1-1 1z\"></path>\n",
       "<path d=\"M23 18h-14c-0.552 0-1-0.448-1-1s0.448-1 1-1h14c0.552 0 1 0.448 1 1s-0.448 1-1 1z\"></path>\n",
       "</symbol>\n",
       "</defs>\n",
       "</svg>\n",
       "<style>/* CSS stylesheet for displaying xarray objects in jupyterlab.\n",
       " *\n",
       " */\n",
       "\n",
       ":root {\n",
       "  --xr-font-color0: var(--jp-content-font-color0, rgba(0, 0, 0, 1));\n",
       "  --xr-font-color2: var(--jp-content-font-color2, rgba(0, 0, 0, 0.54));\n",
       "  --xr-font-color3: var(--jp-content-font-color3, rgba(0, 0, 0, 0.38));\n",
       "  --xr-border-color: var(--jp-border-color2, #e0e0e0);\n",
       "  --xr-disabled-color: var(--jp-layout-color3, #bdbdbd);\n",
       "  --xr-background-color: var(--jp-layout-color0, white);\n",
       "  --xr-background-color-row-even: var(--jp-layout-color1, white);\n",
       "  --xr-background-color-row-odd: var(--jp-layout-color2, #eeeeee);\n",
       "}\n",
       "\n",
       ".xr-wrap {\n",
       "  min-width: 300px;\n",
       "  max-width: 700px;\n",
       "}\n",
       "\n",
       ".xr-header {\n",
       "  padding-top: 6px;\n",
       "  padding-bottom: 6px;\n",
       "  margin-bottom: 4px;\n",
       "  border-bottom: solid 1px var(--xr-border-color);\n",
       "}\n",
       "\n",
       ".xr-header > div,\n",
       ".xr-header > ul {\n",
       "  display: inline;\n",
       "  margin-top: 0;\n",
       "  margin-bottom: 0;\n",
       "}\n",
       "\n",
       ".xr-obj-type,\n",
       ".xr-array-name {\n",
       "  margin-left: 2px;\n",
       "  margin-right: 10px;\n",
       "}\n",
       "\n",
       ".xr-obj-type {\n",
       "  color: var(--xr-font-color2);\n",
       "}\n",
       "\n",
       ".xr-sections {\n",
       "  padding-left: 0 !important;\n",
       "  display: grid;\n",
       "  grid-template-columns: 150px auto auto 1fr 20px 20px;\n",
       "}\n",
       "\n",
       ".xr-section-item {\n",
       "  display: contents;\n",
       "}\n",
       "\n",
       ".xr-section-item input {\n",
       "  display: none;\n",
       "}\n",
       "\n",
       ".xr-section-item input + label {\n",
       "  color: var(--xr-disabled-color);\n",
       "}\n",
       "\n",
       ".xr-section-item input:enabled + label {\n",
       "  cursor: pointer;\n",
       "  color: var(--xr-font-color2);\n",
       "}\n",
       "\n",
       ".xr-section-item input:enabled + label:hover {\n",
       "  color: var(--xr-font-color0);\n",
       "}\n",
       "\n",
       ".xr-section-summary {\n",
       "  grid-column: 1;\n",
       "  color: var(--xr-font-color2);\n",
       "  font-weight: 500;\n",
       "}\n",
       "\n",
       ".xr-section-summary > span {\n",
       "  display: inline-block;\n",
       "  padding-left: 0.5em;\n",
       "}\n",
       "\n",
       ".xr-section-summary-in:disabled + label {\n",
       "  color: var(--xr-font-color2);\n",
       "}\n",
       "\n",
       ".xr-section-summary-in + label:before {\n",
       "  display: inline-block;\n",
       "  content: '►';\n",
       "  font-size: 11px;\n",
       "  width: 15px;\n",
       "  text-align: center;\n",
       "}\n",
       "\n",
       ".xr-section-summary-in:disabled + label:before {\n",
       "  color: var(--xr-disabled-color);\n",
       "}\n",
       "\n",
       ".xr-section-summary-in:checked + label:before {\n",
       "  content: '▼';\n",
       "}\n",
       "\n",
       ".xr-section-summary-in:checked + label > span {\n",
       "  display: none;\n",
       "}\n",
       "\n",
       ".xr-section-summary,\n",
       ".xr-section-inline-details {\n",
       "  padding-top: 4px;\n",
       "  padding-bottom: 4px;\n",
       "}\n",
       "\n",
       ".xr-section-inline-details {\n",
       "  grid-column: 2 / -1;\n",
       "}\n",
       "\n",
       ".xr-section-details {\n",
       "  display: none;\n",
       "  grid-column: 1 / -1;\n",
       "  margin-bottom: 5px;\n",
       "}\n",
       "\n",
       ".xr-section-summary-in:checked ~ .xr-section-details {\n",
       "  display: contents;\n",
       "}\n",
       "\n",
       ".xr-array-wrap {\n",
       "  grid-column: 1 / -1;\n",
       "  display: grid;\n",
       "  grid-template-columns: 20px auto;\n",
       "}\n",
       "\n",
       ".xr-array-wrap > label {\n",
       "  grid-column: 1;\n",
       "  vertical-align: top;\n",
       "}\n",
       "\n",
       ".xr-preview {\n",
       "  color: var(--xr-font-color3);\n",
       "}\n",
       "\n",
       ".xr-array-preview,\n",
       ".xr-array-data {\n",
       "  padding: 0 5px !important;\n",
       "  grid-column: 2;\n",
       "}\n",
       "\n",
       ".xr-array-data,\n",
       ".xr-array-in:checked ~ .xr-array-preview {\n",
       "  display: none;\n",
       "}\n",
       "\n",
       ".xr-array-in:checked ~ .xr-array-data,\n",
       ".xr-array-preview {\n",
       "  display: inline-block;\n",
       "}\n",
       "\n",
       ".xr-dim-list {\n",
       "  display: inline-block !important;\n",
       "  list-style: none;\n",
       "  padding: 0 !important;\n",
       "  margin: 0;\n",
       "}\n",
       "\n",
       ".xr-dim-list li {\n",
       "  display: inline-block;\n",
       "  padding: 0;\n",
       "  margin: 0;\n",
       "}\n",
       "\n",
       ".xr-dim-list:before {\n",
       "  content: '(';\n",
       "}\n",
       "\n",
       ".xr-dim-list:after {\n",
       "  content: ')';\n",
       "}\n",
       "\n",
       ".xr-dim-list li:not(:last-child):after {\n",
       "  content: ',';\n",
       "  padding-right: 5px;\n",
       "}\n",
       "\n",
       ".xr-has-index {\n",
       "  font-weight: bold;\n",
       "}\n",
       "\n",
       ".xr-var-list,\n",
       ".xr-var-item {\n",
       "  display: contents;\n",
       "}\n",
       "\n",
       ".xr-var-item > div,\n",
       ".xr-var-item label,\n",
       ".xr-var-item > .xr-var-name span {\n",
       "  background-color: var(--xr-background-color-row-even);\n",
       "  margin-bottom: 0;\n",
       "}\n",
       "\n",
       ".xr-var-item > .xr-var-name:hover span {\n",
       "  padding-right: 5px;\n",
       "}\n",
       "\n",
       ".xr-var-list > li:nth-child(odd) > div,\n",
       ".xr-var-list > li:nth-child(odd) > label,\n",
       ".xr-var-list > li:nth-child(odd) > .xr-var-name span {\n",
       "  background-color: var(--xr-background-color-row-odd);\n",
       "}\n",
       "\n",
       ".xr-var-name {\n",
       "  grid-column: 1;\n",
       "}\n",
       "\n",
       ".xr-var-dims {\n",
       "  grid-column: 2;\n",
       "}\n",
       "\n",
       ".xr-var-dtype {\n",
       "  grid-column: 3;\n",
       "  text-align: right;\n",
       "  color: var(--xr-font-color2);\n",
       "}\n",
       "\n",
       ".xr-var-preview {\n",
       "  grid-column: 4;\n",
       "}\n",
       "\n",
       ".xr-var-name,\n",
       ".xr-var-dims,\n",
       ".xr-var-dtype,\n",
       ".xr-preview,\n",
       ".xr-attrs dt {\n",
       "  white-space: nowrap;\n",
       "  overflow: hidden;\n",
       "  text-overflow: ellipsis;\n",
       "  padding-right: 10px;\n",
       "}\n",
       "\n",
       ".xr-var-name:hover,\n",
       ".xr-var-dims:hover,\n",
       ".xr-var-dtype:hover,\n",
       ".xr-attrs dt:hover {\n",
       "  overflow: visible;\n",
       "  width: auto;\n",
       "  z-index: 1;\n",
       "}\n",
       "\n",
       ".xr-var-attrs,\n",
       ".xr-var-data {\n",
       "  display: none;\n",
       "  background-color: var(--xr-background-color) !important;\n",
       "  padding-bottom: 5px !important;\n",
       "}\n",
       "\n",
       ".xr-var-attrs-in:checked ~ .xr-var-attrs,\n",
       ".xr-var-data-in:checked ~ .xr-var-data {\n",
       "  display: block;\n",
       "}\n",
       "\n",
       ".xr-var-data > table {\n",
       "  float: right;\n",
       "}\n",
       "\n",
       ".xr-var-name span,\n",
       ".xr-var-data,\n",
       ".xr-attrs {\n",
       "  padding-left: 25px !important;\n",
       "}\n",
       "\n",
       ".xr-attrs,\n",
       ".xr-var-attrs,\n",
       ".xr-var-data {\n",
       "  grid-column: 1 / -1;\n",
       "}\n",
       "\n",
       "dl.xr-attrs {\n",
       "  padding: 0;\n",
       "  margin: 0;\n",
       "  display: grid;\n",
       "  grid-template-columns: 125px auto;\n",
       "}\n",
       "\n",
       ".xr-attrs dt, dd {\n",
       "  padding: 0;\n",
       "  margin: 0;\n",
       "  float: left;\n",
       "  padding-right: 10px;\n",
       "  width: auto;\n",
       "}\n",
       "\n",
       ".xr-attrs dt {\n",
       "  font-weight: normal;\n",
       "  grid-column: 1;\n",
       "}\n",
       "\n",
       ".xr-attrs dt:hover span {\n",
       "  display: inline-block;\n",
       "  background: var(--xr-background-color);\n",
       "  padding-right: 10px;\n",
       "}\n",
       "\n",
       ".xr-attrs dd {\n",
       "  grid-column: 2;\n",
       "  white-space: pre-wrap;\n",
       "  word-break: break-all;\n",
       "}\n",
       "\n",
       ".xr-icon-database,\n",
       ".xr-icon-file-text2 {\n",
       "  display: inline-block;\n",
       "  vertical-align: middle;\n",
       "  width: 1em;\n",
       "  height: 1.5em !important;\n",
       "  stroke-width: 0;\n",
       "  stroke: currentColor;\n",
       "  fill: currentColor;\n",
       "}\n",
       "</style><div class='xr-wrap'><div class='xr-header'><div class='xr-obj-type'>xarray.Dataset</div></div><ul class='xr-sections'><li class='xr-section-item'><input id='section-0245535a-1adf-446f-b52b-915223875cdc' class='xr-section-summary-in' type='checkbox' disabled ><label for='section-0245535a-1adf-446f-b52b-915223875cdc' class='xr-section-summary'  title='Expand/collapse section'>Dimensions:</label><div class='xr-section-inline-details'><ul class='xr-dim-list'><li><span class='xr-has-index'>xdim</span>: 128</li><li><span class='xr-has-index'>ydim</span>: 128</li><li><span class='xr-has-index'>zdim</span>: 128</li></ul></div><div class='xr-section-details'></div></li><li class='xr-section-item'><input id='section-4193181e-65ae-46e8-bcd3-d023741175ca' class='xr-section-summary-in' type='checkbox'  checked><label for='section-4193181e-65ae-46e8-bcd3-d023741175ca' class='xr-section-summary' >Coordinates: <span>(3)</span></label><div class='xr-section-inline-details'></div><div class='xr-section-details'><ul class='xr-var-list'><li class='xr-var-item'><div class='xr-var-name'><span class='xr-has-index'>xdim</span></div><div class='xr-var-dims'>(xdim)</div><div class='xr-var-dtype'>float32</div><div class='xr-var-preview xr-preview'>-10.0 -9.84252 ... 9.84252 10.0</div><input id='attrs-a8a47e22-c6b0-4133-ba7c-56862375d08d' class='xr-var-attrs-in' type='checkbox' ><label for='attrs-a8a47e22-c6b0-4133-ba7c-56862375d08d' title='Show/Hide attributes'><svg class='icon xr-icon-file-text2'><use xlink:href='#icon-file-text2'></use></svg></label><input id='data-6adb4f43-480f-477c-8cdf-e727225887ae' class='xr-var-data-in' type='checkbox'><label for='data-6adb4f43-480f-477c-8cdf-e727225887ae' title='Show/Hide data repr'><svg class='icon xr-icon-database'><use xlink:href='#icon-database'></use></svg></label><div class='xr-var-attrs'><dl class='xr-attrs'><dt><span>long_name :</span></dt><dd>x coordinates</dd><dt><span>units :</span></dt><dd>dimensionless space</dd></dl></div><pre class='xr-var-data'>array([-10.      ,  -9.84252 ,  -9.68504 ,  -9.527559,  -9.370079,  -9.212599,\n",
       "        -9.055119,  -8.897638,  -8.740157,  -8.582677,  -8.425197,  -8.267716,\n",
       "        -8.110236,  -7.952756,  -7.795276,  -7.637795,  -7.480315,  -7.322835,\n",
       "        -7.165354,  -7.007874,  -6.850394,  -6.692913,  -6.535433,  -6.377953,\n",
       "        -6.220472,  -6.062992,  -5.905512,  -5.748032,  -5.590551,  -5.433071,\n",
       "        -5.27559 ,  -5.11811 ,  -4.96063 ,  -4.80315 ,  -4.645669,  -4.488189,\n",
       "        -4.330709,  -4.173228,  -4.015748,  -3.858268,  -3.700788,  -3.543307,\n",
       "        -3.385827,  -3.228346,  -3.070866,  -2.913386,  -2.755906,  -2.598425,\n",
       "        -2.440945,  -2.283464,  -2.125984,  -1.968504,  -1.811024,  -1.653543,\n",
       "        -1.496063,  -1.338583,  -1.181103,  -1.023623,  -0.866141,  -0.708661,\n",
       "        -0.551181,  -0.393701,  -0.23622 ,  -0.07874 ,   0.07874 ,   0.23622 ,\n",
       "         0.393701,   0.551181,   0.708661,   0.866141,   1.023623,   1.181103,\n",
       "         1.338583,   1.496063,   1.653543,   1.811024,   1.968504,   2.125984,\n",
       "         2.283464,   2.440945,   2.598425,   2.755905,   2.913385,   3.070867,\n",
       "         3.228347,   3.385827,   3.543307,   3.700788,   3.858268,   4.015748,\n",
       "         4.173228,   4.330709,   4.488189,   4.645669,   4.803149,   4.960629,\n",
       "         5.118111,   5.275591,   5.433071,   5.590551,   5.748032,   5.905512,\n",
       "         6.062992,   6.220472,   6.377953,   6.535433,   6.692913,   6.850393,\n",
       "         7.007874,   7.165354,   7.322834,   7.480314,   7.637794,   7.795275,\n",
       "         7.952755,   8.110237,   8.267717,   8.425198,   8.582678,   8.740158,\n",
       "         8.897638,   9.055119,   9.212599,   9.370079,   9.527559,   9.68504 ,\n",
       "         9.84252 ,  10.      ], dtype=float32)</pre></li><li class='xr-var-item'><div class='xr-var-name'><span class='xr-has-index'>ydim</span></div><div class='xr-var-dims'>(ydim)</div><div class='xr-var-dtype'>float32</div><div class='xr-var-preview xr-preview'>-10.0 -9.84252 ... 9.84252 10.0</div><input id='attrs-2f1739cf-7bbf-49a3-a73a-d23fda270286' class='xr-var-attrs-in' type='checkbox' ><label for='attrs-2f1739cf-7bbf-49a3-a73a-d23fda270286' title='Show/Hide attributes'><svg class='icon xr-icon-file-text2'><use xlink:href='#icon-file-text2'></use></svg></label><input id='data-e2f18b0a-73ce-49ea-9a7a-5dea022b3f63' class='xr-var-data-in' type='checkbox'><label for='data-e2f18b0a-73ce-49ea-9a7a-5dea022b3f63' title='Show/Hide data repr'><svg class='icon xr-icon-database'><use xlink:href='#icon-database'></use></svg></label><div class='xr-var-attrs'><dl class='xr-attrs'><dt><span>long_name :</span></dt><dd>y coordinates</dd><dt><span>units :</span></dt><dd>dimensionless space</dd></dl></div><pre class='xr-var-data'>array([-10.      ,  -9.84252 ,  -9.68504 ,  -9.527559,  -9.370079,  -9.212599,\n",
       "        -9.055119,  -8.897638,  -8.740157,  -8.582677,  -8.425197,  -8.267716,\n",
       "        -8.110236,  -7.952756,  -7.795276,  -7.637795,  -7.480315,  -7.322835,\n",
       "        -7.165354,  -7.007874,  -6.850394,  -6.692913,  -6.535433,  -6.377953,\n",
       "        -6.220472,  -6.062992,  -5.905512,  -5.748032,  -5.590551,  -5.433071,\n",
       "        -5.27559 ,  -5.11811 ,  -4.96063 ,  -4.80315 ,  -4.645669,  -4.488189,\n",
       "        -4.330709,  -4.173228,  -4.015748,  -3.858268,  -3.700788,  -3.543307,\n",
       "        -3.385827,  -3.228346,  -3.070866,  -2.913386,  -2.755906,  -2.598425,\n",
       "        -2.440945,  -2.283464,  -2.125984,  -1.968504,  -1.811024,  -1.653543,\n",
       "        -1.496063,  -1.338583,  -1.181103,  -1.023623,  -0.866141,  -0.708661,\n",
       "        -0.551181,  -0.393701,  -0.23622 ,  -0.07874 ,   0.07874 ,   0.23622 ,\n",
       "         0.393701,   0.551181,   0.708661,   0.866141,   1.023623,   1.181103,\n",
       "         1.338583,   1.496063,   1.653543,   1.811024,   1.968504,   2.125984,\n",
       "         2.283464,   2.440945,   2.598425,   2.755905,   2.913385,   3.070867,\n",
       "         3.228347,   3.385827,   3.543307,   3.700788,   3.858268,   4.015748,\n",
       "         4.173228,   4.330709,   4.488189,   4.645669,   4.803149,   4.960629,\n",
       "         5.118111,   5.275591,   5.433071,   5.590551,   5.748032,   5.905512,\n",
       "         6.062992,   6.220472,   6.377953,   6.535433,   6.692913,   6.850393,\n",
       "         7.007874,   7.165354,   7.322834,   7.480314,   7.637794,   7.795275,\n",
       "         7.952755,   8.110237,   8.267717,   8.425198,   8.582678,   8.740158,\n",
       "         8.897638,   9.055119,   9.212599,   9.370079,   9.527559,   9.68504 ,\n",
       "         9.84252 ,  10.      ], dtype=float32)</pre></li><li class='xr-var-item'><div class='xr-var-name'><span class='xr-has-index'>zdim</span></div><div class='xr-var-dims'>(zdim)</div><div class='xr-var-dtype'>float32</div><div class='xr-var-preview xr-preview'>-10.0 -9.84252 ... 9.84252 10.0</div><input id='attrs-28ce6ddb-7740-466a-a333-029837a589bc' class='xr-var-attrs-in' type='checkbox' ><label for='attrs-28ce6ddb-7740-466a-a333-029837a589bc' title='Show/Hide attributes'><svg class='icon xr-icon-file-text2'><use xlink:href='#icon-file-text2'></use></svg></label><input id='data-c56f6d04-e3c7-49da-9fa6-b089369bd3d0' class='xr-var-data-in' type='checkbox'><label for='data-c56f6d04-e3c7-49da-9fa6-b089369bd3d0' title='Show/Hide data repr'><svg class='icon xr-icon-database'><use xlink:href='#icon-database'></use></svg></label><div class='xr-var-attrs'><dl class='xr-attrs'><dt><span>long_name :</span></dt><dd>z coordinates</dd><dt><span>units :</span></dt><dd>dimensionless space</dd></dl></div><pre class='xr-var-data'>array([-10.      ,  -9.84252 ,  -9.68504 ,  -9.527559,  -9.370079,  -9.212599,\n",
       "        -9.055119,  -8.897638,  -8.740157,  -8.582677,  -8.425197,  -8.267716,\n",
       "        -8.110236,  -7.952756,  -7.795276,  -7.637795,  -7.480315,  -7.322835,\n",
       "        -7.165354,  -7.007874,  -6.850394,  -6.692913,  -6.535433,  -6.377953,\n",
       "        -6.220472,  -6.062992,  -5.905512,  -5.748032,  -5.590551,  -5.433071,\n",
       "        -5.27559 ,  -5.11811 ,  -4.96063 ,  -4.80315 ,  -4.645669,  -4.488189,\n",
       "        -4.330709,  -4.173228,  -4.015748,  -3.858268,  -3.700788,  -3.543307,\n",
       "        -3.385827,  -3.228346,  -3.070866,  -2.913386,  -2.755906,  -2.598425,\n",
       "        -2.440945,  -2.283464,  -2.125984,  -1.968504,  -1.811024,  -1.653543,\n",
       "        -1.496063,  -1.338583,  -1.181103,  -1.023623,  -0.866141,  -0.708661,\n",
       "        -0.551181,  -0.393701,  -0.23622 ,  -0.07874 ,   0.07874 ,   0.23622 ,\n",
       "         0.393701,   0.551181,   0.708661,   0.866141,   1.023623,   1.181103,\n",
       "         1.338583,   1.496063,   1.653543,   1.811024,   1.968504,   2.125984,\n",
       "         2.283464,   2.440945,   2.598425,   2.755905,   2.913385,   3.070867,\n",
       "         3.228347,   3.385827,   3.543307,   3.700788,   3.858268,   4.015748,\n",
       "         4.173228,   4.330709,   4.488189,   4.645669,   4.803149,   4.960629,\n",
       "         5.118111,   5.275591,   5.433071,   5.590551,   5.748032,   5.905512,\n",
       "         6.062992,   6.220472,   6.377953,   6.535433,   6.692913,   6.850393,\n",
       "         7.007874,   7.165354,   7.322834,   7.480314,   7.637794,   7.795275,\n",
       "         7.952755,   8.110237,   8.267717,   8.425198,   8.582678,   8.740158,\n",
       "         8.897638,   9.055119,   9.212599,   9.370079,   9.527559,   9.68504 ,\n",
       "         9.84252 ,  10.      ], dtype=float32)</pre></li></ul></div></li><li class='xr-section-item'><input id='section-d1eaa1ae-5884-4000-961a-5b351c3bf8ef' class='xr-section-summary-in' type='checkbox'  checked><label for='section-d1eaa1ae-5884-4000-961a-5b351c3bf8ef' class='xr-section-summary' >Data variables: <span>(3)</span></label><div class='xr-section-inline-details'></div><div class='xr-section-details'><ul class='xr-var-list'><li class='xr-var-item'><div class='xr-var-name'><span>u</span></div><div class='xr-var-dims'>(zdim, ydim, xdim)</div><div class='xr-var-dtype'>float32</div><div class='xr-var-preview xr-preview'>...</div><input id='attrs-eaa1423d-8af5-488e-99e9-831f6e4e7161' class='xr-var-attrs-in' type='checkbox' ><label for='attrs-eaa1423d-8af5-488e-99e9-831f6e4e7161' title='Show/Hide attributes'><svg class='icon xr-icon-file-text2'><use xlink:href='#icon-file-text2'></use></svg></label><input id='data-e4b275b3-7659-4c0e-a5aa-9b8f858fd4d7' class='xr-var-data-in' type='checkbox'><label for='data-e4b275b3-7659-4c0e-a5aa-9b8f858fd4d7' title='Show/Hide data repr'><svg class='icon xr-icon-database'><use xlink:href='#icon-database'></use></svg></label><div class='xr-var-attrs'><dl class='xr-attrs'><dt><span>long_name :</span></dt><dd>u velocity component</dd><dt><span>units :</span></dt><dd>dimensionless space / dimensionless time</dd></dl></div><pre class='xr-var-data'>[2097152 values with dtype=float32]</pre></li><li class='xr-var-item'><div class='xr-var-name'><span>v</span></div><div class='xr-var-dims'>(zdim, ydim, xdim)</div><div class='xr-var-dtype'>float32</div><div class='xr-var-preview xr-preview'>...</div><input id='attrs-ab0a384f-dbda-4d70-bdd8-8a56bd8ac969' class='xr-var-attrs-in' type='checkbox' ><label for='attrs-ab0a384f-dbda-4d70-bdd8-8a56bd8ac969' title='Show/Hide attributes'><svg class='icon xr-icon-file-text2'><use xlink:href='#icon-file-text2'></use></svg></label><input id='data-420bc129-6fe6-4a0b-a9ab-92fcede9d4e3' class='xr-var-data-in' type='checkbox'><label for='data-420bc129-6fe6-4a0b-a9ab-92fcede9d4e3' title='Show/Hide data repr'><svg class='icon xr-icon-database'><use xlink:href='#icon-database'></use></svg></label><div class='xr-var-attrs'><dl class='xr-attrs'><dt><span>long_name :</span></dt><dd>v velocity component</dd><dt><span>units :</span></dt><dd>dimensionless space / dimensionless time</dd></dl></div><pre class='xr-var-data'>[2097152 values with dtype=float32]</pre></li><li class='xr-var-item'><div class='xr-var-name'><span>w</span></div><div class='xr-var-dims'>(zdim, ydim, xdim)</div><div class='xr-var-dtype'>float32</div><div class='xr-var-preview xr-preview'>...</div><input id='attrs-d9f3ea6b-29e2-44b7-b69c-ed13283f8c20' class='xr-var-attrs-in' type='checkbox' ><label for='attrs-d9f3ea6b-29e2-44b7-b69c-ed13283f8c20' title='Show/Hide attributes'><svg class='icon xr-icon-file-text2'><use xlink:href='#icon-file-text2'></use></svg></label><input id='data-97e2b202-cdfb-4e8a-831d-fd81bbc59f66' class='xr-var-data-in' type='checkbox'><label for='data-97e2b202-cdfb-4e8a-831d-fd81bbc59f66' title='Show/Hide data repr'><svg class='icon xr-icon-database'><use xlink:href='#icon-database'></use></svg></label><div class='xr-var-attrs'><dl class='xr-attrs'><dt><span>long_name :</span></dt><dd>w velocity component</dd><dt><span>units :</span></dt><dd>dimensionless space / dimensionless time</dd></dl></div><pre class='xr-var-data'>[2097152 values with dtype=float32]</pre></li></ul></div></li><li class='xr-section-item'><input id='section-3d42ccf5-cc54-475d-bf08-b67a443ae77b' class='xr-section-summary-in' type='checkbox'  checked><label for='section-3d42ccf5-cc54-475d-bf08-b67a443ae77b' class='xr-section-summary' >Attributes: <span>(2)</span></label><div class='xr-section-inline-details'></div><div class='xr-section-details'><dl class='xr-attrs'><dt><span>creation_date :</span></dt><dd>16-Apr-2019 17:36:10</dd><dt><span>grid :</span></dt><dd>regular</dd></dl></div></li></ul></div></div>"
      ],
      "text/plain": [
       "<xarray.Dataset>\n",
       "Dimensions:  (xdim: 128, ydim: 128, zdim: 128)\n",
       "Coordinates:\n",
       "  * xdim     (xdim) float32 -10.0 -9.84252 -9.6850395 ... 9.6850395 9.84252 10.0\n",
       "  * ydim     (ydim) float32 -10.0 -9.84252 -9.6850395 ... 9.6850395 9.84252 10.0\n",
       "  * zdim     (zdim) float32 -10.0 -9.84252 -9.6850395 ... 9.6850395 9.84252 10.0\n",
       "Data variables:\n",
       "    u        (zdim, ydim, xdim) float32 ...\n",
       "    v        (zdim, ydim, xdim) float32 ...\n",
       "    w        (zdim, ydim, xdim) float32 ...\n",
       "Attributes:\n",
       "    creation_date:  16-Apr-2019 17:36:10\n",
       "    grid:           regular"
      ]
     },
     "execution_count": 3,
     "metadata": {},
     "output_type": "execute_result"
    }
   ],
   "source": [
    "ds = xr.open_dataset(data_path + 'tornado3d' + '.' + netCDF_extension)\n",
    "ds"
   ]
  },
  {
   "cell_type": "code",
   "execution_count": 4,
   "metadata": {},
   "outputs": [
    {
     "data": {
      "text/plain": [
       "Coordinates:\n",
       "  * xdim     (xdim) float32 -10.0 -9.84252 -9.6850395 ... 9.6850395 9.84252 10.0\n",
       "  * ydim     (ydim) float32 -10.0 -9.84252 -9.6850395 ... 9.6850395 9.84252 10.0\n",
       "  * zdim     (zdim) float32 -10.0 -9.84252 -9.6850395 ... 9.6850395 9.84252 10.0"
      ]
     },
     "execution_count": 4,
     "metadata": {},
     "output_type": "execute_result"
    }
   ],
   "source": [
    "ds.coords"
   ]
  },
  {
   "cell_type": "code",
   "execution_count": 5,
   "metadata": {},
   "outputs": [
    {
     "data": {
      "text/plain": [
       "Frozen(SortedKeysDict({'zdim': 128, 'ydim': 128, 'xdim': 128}))"
      ]
     },
     "execution_count": 5,
     "metadata": {},
     "output_type": "execute_result"
    }
   ],
   "source": [
    "ds.dims"
   ]
  },
  {
   "cell_type": "code",
   "execution_count": 6,
   "metadata": {},
   "outputs": [
    {
     "data": {
      "text/plain": [
       "{'creation_date': '16-Apr-2019 17:36:10', 'grid': 'regular'}"
      ]
     },
     "execution_count": 6,
     "metadata": {},
     "output_type": "execute_result"
    }
   ],
   "source": [
    "ds.attrs"
   ]
  },
  {
   "cell_type": "code",
   "execution_count": 7,
   "metadata": {},
   "outputs": [
    {
     "data": {
      "text/plain": [
       "<bound method Dataset.to_dataframe of <xarray.Dataset>\n",
       "Dimensions:  (xdim: 128, ydim: 128, zdim: 128)\n",
       "Coordinates:\n",
       "  * xdim     (xdim) float32 -10.0 -9.84252 -9.6850395 ... 9.6850395 9.84252 10.0\n",
       "  * ydim     (ydim) float32 -10.0 -9.84252 -9.6850395 ... 9.6850395 9.84252 10.0\n",
       "  * zdim     (zdim) float32 -10.0 -9.84252 -9.6850395 ... 9.6850395 9.84252 10.0\n",
       "Data variables:\n",
       "    u        (zdim, ydim, xdim) float32 ...\n",
       "    v        (zdim, ydim, xdim) float32 ...\n",
       "    w        (zdim, ydim, xdim) float32 ...\n",
       "Attributes:\n",
       "    creation_date:  16-Apr-2019 17:36:10\n",
       "    grid:           regular>"
      ]
     },
     "execution_count": 7,
     "metadata": {},
     "output_type": "execute_result"
    }
   ],
   "source": [
    "# try converting to pandas dataframe  \n",
    "# NOTE: actually bound conversion method to object, rather than converting\n",
    "\n",
    "df = ds.to_dataframe\n",
    "df"
   ]
  },
  {
   "cell_type": "markdown",
   "metadata": {},
   "source": [
    "## Reshape CDF variables\n",
    "\n",
    "Have 3 variables (u,v,w) each with shape = (128,128,128). Need one array of shape (128,128,128,3)."
   ]
  },
  {
   "cell_type": "code",
   "execution_count": 8,
   "metadata": {},
   "outputs": [
    {
     "name": "stdout",
     "output_type": "stream",
     "text": [
      "v shape =  (8, 8, 8)\n",
      "uvw shape =  (8, 8, 8, 3)\n",
      "total cells are  1536\n"
     ]
    }
   ],
   "source": [
    "# start with simple example...\n",
    "\n",
    "size = 8\n",
    "\n",
    "(u, v, w) = (np.random.randint(0,100,(size,size,size)), ) * 3\n",
    "print('v shape = ', u.shape)\n",
    "\n",
    "# combine with np.stack making the new dimension the last\n",
    "uvw = np.stack((u, v, w), axis=-1)\n",
    "print('uvw shape = ', uvw.shape)\n",
    "print('total cells are ', np.prod(uvw.shape))   # uvw.shape"
   ]
  },
  {
   "cell_type": "code",
   "execution_count": 9,
   "metadata": {},
   "outputs": [
    {
     "name": "stdout",
     "output_type": "stream",
     "text": [
      "(25, 25, 25) when stacked...  [25 25 25]\n",
      "(89, 89, 89) when stacked...  [89 89 89]\n",
      "(79, 79, 79) when stacked...  [79 79 79]\n",
      "(53, 53, 53) when stacked...  [53 53 53]\n",
      "(23, 23, 23) when stacked...  [23 23 23]\n",
      "(22, 22, 22) when stacked...  [22 22 22]\n",
      "(16, 16, 16) when stacked...  [16 16 16]\n",
      "(31, 31, 31) when stacked...  [31 31 31]\n"
     ]
    }
   ],
   "source": [
    "# Are the cells of u & v & w the same as  uvw(i,i,i,:)\n",
    "\n",
    "for i in range(size): print((u[i,i,i], v[i,i,i], w[i,i,i]), 'when stacked... ', uvw[i,i,i,:])"
   ]
  },
  {
   "cell_type": "markdown",
   "metadata": {},
   "source": [
    "## Set np.arrays for u,v,w from our sample netCDL dataset"
   ]
  },
  {
   "cell_type": "code",
   "execution_count": 10,
   "metadata": {},
   "outputs": [
    {
     "data": {
      "text/plain": [
       "(128, 128, 128)"
      ]
     },
     "execution_count": 10,
     "metadata": {},
     "output_type": "execute_result"
    }
   ],
   "source": [
    "u = np.array(ds.data_vars['u'])\n",
    "v = np.array(ds.data_vars['v'])\n",
    "w = np.array(ds.data_vars['w'])\n",
    "u.shape"
   ]
  },
  {
   "cell_type": "markdown",
   "metadata": {},
   "source": [
    "## Combine three variable into one using np.stack"
   ]
  },
  {
   "cell_type": "code",
   "execution_count": 11,
   "metadata": {},
   "outputs": [
    {
     "name": "stdout",
     "output_type": "stream",
     "text": [
      "uvw shape =  (128, 128, 128, 3)\n",
      "total cells are  6291456\n"
     ]
    }
   ],
   "source": [
    "# combine with np.stack making the new dimension the last\n",
    "\n",
    "uvw = np.stack((u, v, w), axis=-1)\n",
    "print('uvw shape = ', uvw.shape)\n",
    "print('total cells are ', np.prod(uvw.shape))   # uvw.shape"
   ]
  },
  {
   "cell_type": "markdown",
   "metadata": {},
   "source": [
    "## Find min-max of u-v-w velocities"
   ]
  },
  {
   "cell_type": "code",
   "execution_count": 12,
   "metadata": {},
   "outputs": [
    {
     "data": {
      "text/plain": [
       "-6.2111263"
      ]
     },
     "execution_count": 12,
     "metadata": {},
     "output_type": "execute_result"
    }
   ],
   "source": [
    "uvw_min = np.amin(uvw)\n",
    "uvw_min"
   ]
  },
  {
   "cell_type": "code",
   "execution_count": 13,
   "metadata": {},
   "outputs": [
    {
     "data": {
      "text/plain": [
       "6.2132716"
      ]
     },
     "execution_count": 13,
     "metadata": {},
     "output_type": "execute_result"
    }
   ],
   "source": [
    "uvw_max = np.amax(uvw)\n",
    "uvw_max"
   ]
  },
  {
   "cell_type": "markdown",
   "metadata": {},
   "source": [
    "## Show the distribution of initial U-V-W values"
   ]
  },
  {
   "cell_type": "code",
   "execution_count": 77,
   "metadata": {},
   "outputs": [
    {
     "data": {
      "text/plain": [
       "<matplotlib.axes._subplots.AxesSubplot at 0x16200f69208>"
      ]
     },
     "execution_count": 77,
     "metadata": {},
     "output_type": "execute_result"
    },
    {
     "data": {
      "image/png": "[encoded data removed]",
      "text/plain": [
       "<Figure size 432x288 with 1 Axes>"
      ]
     },
     "metadata": {
      "needs_background": "light"
     },
     "output_type": "display_data"
    }
   ],
   "source": [
    "import matplotlib.pyplot as plt\n",
    "import seaborn as sns\n",
    "\n",
    "# Since >6M cells, random sample for efficiency\n",
    "uvw_sample = np.random.choice(np.ndarray.flatten(uvw), 10**4)\n",
    "uvw_sampleU = np.random.choice(np.ndarray.flatten(uvw[:,:,:,0]), 10**4)\n",
    "uvw_sampleV = np.random.choice(np.ndarray.flatten(uvw[:,:,:,1]), 10**4)\n",
    "uvw_sampleW = np.random.choice(np.ndarray.flatten(uvw[:,:,:,2]), 10**4)\n",
    "\n",
    "sns.distplot(uvw_sample)"
   ]
  },
  {
   "cell_type": "code",
   "execution_count": 78,
   "metadata": {},
   "outputs": [
    {
     "data": {
      "text/plain": [
       "<matplotlib.axes._subplots.AxesSubplot at 0x1620181ca48>"
      ]
     },
     "execution_count": 78,
     "metadata": {},
     "output_type": "execute_result"
    },
    {
     "data": {
      "image/png": "[encoded data removed]",
      "text/plain": [
       "<Figure size 432x288 with 1 Axes>"
      ]
     },
     "metadata": {
      "needs_background": "light"
     },
     "output_type": "display_data"
    }
   ],
   "source": [
    "sns.kdeplot(uvw_sampleU, uvw_sampleV)"
   ]
  },
  {
   "cell_type": "code",
   "execution_count": 79,
   "metadata": {},
   "outputs": [
    {
     "data": {
      "text/plain": [
       "<matplotlib.axes._subplots.AxesSubplot at 0x16201b13188>"
      ]
     },
     "execution_count": 79,
     "metadata": {},
     "output_type": "execute_result"
    },
    {
     "data": {
      "image/png": "[encoded data removed]",
      "text/plain": [
       "<Figure size 432x288 with 1 Axes>"
      ]
     },
     "metadata": {
      "needs_background": "light"
     },
     "output_type": "display_data"
    }
   ],
   "source": [
    "sns.kdeplot(uvw_sampleU, uvw_sampleW)"
   ]
  },
  {
   "cell_type": "markdown",
   "metadata": {},
   "source": [
    "## Normalize and scale 255 for RGB color\n",
    "\n",
    "using x_norm = 256*(X-uvw_min)/(uvw_max-uvw_min)"
   ]
  },
  {
   "cell_type": "code",
   "execution_count": 14,
   "metadata": {},
   "outputs": [
    {
     "data": {
      "text/plain": [
       "array([[[[125,  87, 127],\n",
       "         [126,  87, 127]],\n",
       "\n",
       "        [[125,  87, 127],\n",
       "         [126,  87, 127]]],\n",
       "\n",
       "\n",
       "       [[[123,  88, 127],\n",
       "         [124,  87, 127]],\n",
       "\n",
       "        [[124,  87, 127],\n",
       "         [125,  87, 127]]]])"
      ]
     },
     "execution_count": 14,
     "metadata": {},
     "output_type": "execute_result"
    }
   ],
   "source": [
    "uvw_norm = (255 * (uvw / (uvw_max-uvw_min) - (uvw_min/(uvw_max-uvw_min)))).astype(np.int)\n",
    "uvw_norm[:2,:2,:2,:]"
   ]
  },
  {
   "cell_type": "code",
   "execution_count": 15,
   "metadata": {},
   "outputs": [
    {
     "data": {
      "text/plain": [
       "<matplotlib.axes._subplots.AxesSubplot at 0x1627bd1fa88>"
      ]
     },
     "execution_count": 15,
     "metadata": {},
     "output_type": "execute_result"
    },
    {
     "data": {
      "image/png": "[encoded data removed]",
      "text/plain": [
       "<Figure size 432x288 with 1 Axes>"
      ]
     },
     "metadata": {
      "needs_background": "light"
     },
     "output_type": "display_data"
    }
   ],
   "source": [
    "import matplotlib.pyplot as plt\n",
    "import seaborn as sns\n",
    "\n",
    "# Since >6M cells, random sample for efficiency\n",
    "uvw_sample = np.random.choice(np.ndarray.flatten(uvw_norm), 10**4)\n",
    "sns.distplot(uvw_sample)"
   ]
  },
  {
   "cell_type": "markdown",
   "metadata": {},
   "source": [
    "## Save UVW_norm to /Data "
   ]
  },
  {
   "cell_type": "code",
   "execution_count": 16,
   "metadata": {},
   "outputs": [],
   "source": [
    "file_name = \"../Data/tornado3d_norm.npy\"  # add timestamp in future\n",
    "np.save(file_name, uvw_norm)  #### interesting... NPY file is same size as orginal NC file\n",
    "\n",
    "### uvw_norm = np.load(file_name)    # uncomment when needed"
   ]
  },
  {
   "cell_type": "markdown",
   "metadata": {},
   "source": [
    "## Create color pixels from truples (R,G,B)"
   ]
  },
  {
   "cell_type": "code",
   "execution_count": 17,
   "metadata": {},
   "outputs": [],
   "source": [
    "from PIL import Image"
   ]
  },
  {
   "cell_type": "code",
   "execution_count": 39,
   "metadata": {},
   "outputs": [
    {
     "ename": "ValueError",
     "evalue": "too many values to unpack (expected 3)",
     "output_type": "error",
     "traceback": [
      "\u001b[1;31m---------------------------------------------------------------------------\u001b[0m",
      "\u001b[1;31mValueError\u001b[0m                                Traceback (most recent call last)",
      "\u001b[1;32m<ipython-input-39-2ab31f159ad0>\u001b[0m in \u001b[0;36m<module>\u001b[1;34m\u001b[0m\n\u001b[1;32m----> 1\u001b[1;33m \u001b[1;33m(\u001b[0m\u001b[0mr\u001b[0m\u001b[1;33m,\u001b[0m\u001b[0mg\u001b[0m\u001b[1;33m,\u001b[0m\u001b[0mb\u001b[0m\u001b[1;33m)\u001b[0m \u001b[1;33m=\u001b[0m \u001b[0muvw_norm\u001b[0m\u001b[1;33m\u001b[0m\u001b[1;33m\u001b[0m\u001b[0m\n\u001b[0m",
      "\u001b[1;31mValueError\u001b[0m: too many values to unpack (expected 3)"
     ]
    }
   ],
   "source": [
    "(r,g,b) = uvw_norm"
   ]
  },
  {
   "cell_type": "code",
   "execution_count": 43,
   "metadata": {},
   "outputs": [
    {
     "name": "stdout",
     "output_type": "stream",
     "text": [
      "(125, 87, 127)\n",
      "8214399\n"
     ]
    },
    {
     "data": {
      "text/plain": [
       "125"
      ]
     },
     "execution_count": 43,
     "metadata": {},
     "output_type": "execute_result"
    }
   ],
   "source": [
    "# METHOD A - simple calculation\n",
    "\n",
    "(r,g,b) = uvw_norm[1,1,1,:]\n",
    "print((r,g,b))\n",
    "rgb = 256**2 * r + 256 * g + b\n",
    "print(rgb)\n",
    "rr = rgb // 256**2"
   ]
  },
  {
   "cell_type": "code",
   "execution_count": 56,
   "metadata": {},
   "outputs": [
    {
     "name": "stdout",
     "output_type": "stream",
     "text": [
      "[125  87 127]\n"
     ]
    },
    {
     "data": {
      "text/plain": [
       "8214399"
      ]
     },
     "execution_count": 56,
     "metadata": {},
     "output_type": "execute_result"
    }
   ],
   "source": [
    "# Method B - packing bytes in hex\n",
    "import struct\n",
    "\n",
    "rgb = uvw_norm[1,1,1,:]\n",
    "print(rgb)\n",
    "rgb_hex = bytes.hex(struct.pack('BBB',*rgb))\n",
    "int(rgb_hex, 16)"
   ]
  },
  {
   "cell_type": "code",
   "execution_count": 47,
   "metadata": {},
   "outputs": [
    {
     "data": {
      "text/plain": [
       "8214399"
      ]
     },
     "execution_count": 47,
     "metadata": {},
     "output_type": "execute_result"
    }
   ],
   "source": [
    "R = uvw_norm[:,:,:,0]\n",
    "G = uvw_norm[:,:,:,1]\n",
    "B = uvw_norm[:,:,:,2]\n",
    "RGB = ((256**2) * R) + (256 * G) + B\n",
    "RGB.shape\n",
    "RGB[1,1,1]"
   ]
  },
  {
   "cell_type": "code",
   "execution_count": null,
   "metadata": {},
   "outputs": [],
   "source": [
    "\n",
    "u_norm2D = uvw_norm[i,:,:,0]\n",
    "\n",
    "uvw_norm2D = uvw_norm[i,:,:,0]\n",
    "\n",
    "\n",
    "# n = r256^2 + g256 + b"
   ]
  },
  {
   "cell_type": "code",
   "execution_count": null,
   "metadata": {},
   "outputs": [],
   "source": [
    "import matplotlib.pyplot as plt\n",
    "from PIL import Image\n",
    "\n",
    "#plt.ioff()  # when all the images are generated \n",
    "matplotlib.use('Agg')\n",
    "\n",
    "(no_slices,_,_,_) = uvw_norm.shape\n",
    "for i in range(no_slices):\n",
    "    U = uvw[i,:,:,0]\n",
    "    V = uvw[i,:,:,1]\n",
    "    W = uvw[i,:,:,2]\n",
    "\n",
    "    fig = plt.figure(figsize=(12,5))\n",
    "    a = fig.add_subplot(1,4,1)\n",
    "    plt.imshow(U, cmap='seismic')\n",
    "    a.set_title('U')\n",
    "    plt.colorbar(orientation='horizontal')\n",
    "\n",
    "    a = fig.add_subplot(1,4,2)\n",
    "    plt.imshow(V, cmap='seismic')\n",
    "    a.set_title('V')\n",
    "    plt.colorbar(orientation='horizontal')\n",
    "\n",
    "    a = fig.add_subplot(1,4,3)\n",
    "    plt.imshow(W, cmap='seismic')\n",
    "    a.set_title('W')\n",
    "    plt.colorbar(orientation='horizontal')\n",
    "    \n",
    "    # Actually not needed here......  Will be for create 3D image \n",
    "    R = uvw_norm[i,:,:,0]\n",
    "    G = uvw_norm[i,:,:,1]\n",
    "    B = uvw_norm[i,:,:,2]\n",
    "    RGB = (256**2 * R) + (256 * G) + B\n",
    "    #print(R.shape, RGB.shape)\n",
    "    \n",
    "    a = fig.add_subplot(1,4,4)\n",
    "    plt.imshow(uvw_norm[i,:,:,:])\n",
    "    rgb_title = 'RGB_Slice{:04d}'.format(i)\n",
    "    a.set_title(rgb_title)\n",
    "    plt.colorbar(orientation='horizontal')\n",
    "\n",
    "    plt.savefig('log/' + rgb_title)\n",
    "\n",
    "#plt.imshow(uvw_image)\n",
    "\n",
    "\n",
    "#uvw_image = Image.fromarray(u_norm2D)\n",
    "#print(uvw_image)\n",
    "#uvw_image = Image.new(im.mode, im.size)\n",
    "#uvw_image = Image \n",
    "\n",
    "#plt.imshow(uvw_image, mode=None)\n"
   ]
  },
  {
   "cell_type": "markdown",
   "metadata": {},
   "source": [
    "## Generate animated GIF from RGB Slice in /log"
   ]
  },
  {
   "cell_type": "code",
   "execution_count": 73,
   "metadata": {},
   "outputs": [
    {
     "ename": "AttributeError",
     "evalue": "'function' object has no attribute 'Image'",
     "output_type": "error",
     "traceback": [
      "\u001b[1;31m---------------------------------------------------------------------------\u001b[0m",
      "\u001b[1;31mAttributeError\u001b[0m                            Traceback (most recent call last)",
      "\u001b[1;32m<ipython-input-73-fd4d3d95eacc>\u001b[0m in \u001b[0;36m<module>\u001b[1;34m\u001b[0m\n\u001b[0;32m     22\u001b[0m \u001b[1;32mimport\u001b[0m \u001b[0mIPython\u001b[0m\u001b[1;33m\u001b[0m\u001b[1;33m\u001b[0m\u001b[0m\n\u001b[0;32m     23\u001b[0m \u001b[1;32mif\u001b[0m \u001b[0mIPython\u001b[0m\u001b[1;33m.\u001b[0m\u001b[0mversion_info\u001b[0m \u001b[1;33m>=\u001b[0m \u001b[1;33m(\u001b[0m\u001b[1;36m6\u001b[0m\u001b[1;33m,\u001b[0m\u001b[1;36m2\u001b[0m\u001b[1;33m,\u001b[0m\u001b[1;36m0\u001b[0m\u001b[1;33m,\u001b[0m\u001b[1;34m''\u001b[0m\u001b[1;33m)\u001b[0m\u001b[1;33m:\u001b[0m\u001b[1;33m\u001b[0m\u001b[1;33m\u001b[0m\u001b[0m\n\u001b[1;32m---> 24\u001b[1;33m   \u001b[0mdisplay\u001b[0m\u001b[1;33m.\u001b[0m\u001b[0mImage\u001b[0m\u001b[1;33m(\u001b[0m\u001b[0mfilename\u001b[0m\u001b[1;33m=\u001b[0m\u001b[0manim_file\u001b[0m\u001b[1;33m)\u001b[0m\u001b[1;33m\u001b[0m\u001b[1;33m\u001b[0m\u001b[0m\n\u001b[0m",
      "\u001b[1;31mAttributeError\u001b[0m: 'function' object has no attribute 'Image'"
     ]
    }
   ],
   "source": [
    "import glob\n",
    "import imageio\n",
    "from PIL import Image\n",
    "\n",
    "anim_file = 'log/RGB_slices.gif'\n",
    "\n",
    "with imageio.get_writer(anim_file, mode='I') as writer:\n",
    "  filenames = glob.glob('log/RGB_slice*.png')\n",
    "  filenames = sorted(filenames)\n",
    "  last = -1\n",
    "  for i,filename in enumerate(filenames):\n",
    "    frame = 2*(i**0.5)\n",
    "    if round(frame) > round(last):\n",
    "      last = frame\n",
    "    else:\n",
    "      continue\n",
    "    image = imageio.imread(filename)\n",
    "    writer.append_data(image)\n",
    "  image = imageio.imread(filename)\n",
    "  writer.append_data(image)\n",
    "\n",
    "import IPython\n",
    "if IPython.version_info >= (6,2,0,''):\n",
    "  display.Image(filename=anim_file)"
   ]
  },
  {
   "cell_type": "markdown",
   "metadata": {},
   "source": [
    "## Generate 3D image from UVW"
   ]
  },
  {
   "cell_type": "code",
   "execution_count": 127,
   "metadata": {},
   "outputs": [
    {
     "name": "stderr",
     "output_type": "stream",
     "text": [
      "Clipping input data to the valid range for imshow with RGB data ([0..1] for floats or [0..255] for integers).\n"
     ]
    },
    {
     "data": {
      "text/plain": [
       "<matplotlib.image.AxesImage at 0x1cc10392c88>"
      ]
     },
     "execution_count": 127,
     "metadata": {},
     "output_type": "execute_result"
    },
    {
     "data": {
      "image/png": "[encoded data removed]",
      "text/plain": [
       "<Figure size 432x288 with 1 Axes>"
      ]
     },
     "metadata": {
      "needs_background": "light"
     },
     "output_type": "display_data"
    }
   ],
   "source": [
    "# try simple imshow images\n",
    "# from https://matplotlib.org/3.2.1/tutorials/introductory/images.html and \n",
    "import matplotlib.pyplot as plt\n",
    "\n",
    "fig = plt.figure()\n",
    "a = fig.add_subplot(1,2,1)\n",
    "imgplot = plt.imshow(lum_img)\n",
    "a.set_title('Before')\n",
    "plt.colorbar(ticks=[0.1, 0.3, 0.5, 0.7], orientation='horizontal')\n",
    "a = fig.add_subplot(1, 2, 2)\n",
    "imgplot = plt.imshow(lum_img)\n",
    "imgplot.set_clim(0.0, 0.7)\n",
    "a.set_title('After')\n",
    "plt.colorbar(ticks=[0.1, 0.3, 0.5, 0.7], orientation='horizontal')\n",
    "\n",
    "\n",
    "i = 1\n",
    "plt.imshow(uvw[:,:,i,:])\n"
   ]
  },
  {
   "cell_type": "code",
   "execution_count": null,
   "metadata": {},
   "outputs": [],
   "source": []
  },
  {
   "cell_type": "code",
   "execution_count": 128,
   "metadata": {
    "collapsed": false,
    "jupyter": {
     "outputs_hidden": false
    }
   },
   "outputs": [
    {
     "data": {
      "image/png": "[encoded data removed]",
      "text/plain": [
       "<Figure size 432x288 with 1 Axes>"
      ]
     },
     "metadata": {
      "needs_background": "light"
     },
     "output_type": "display_data"
    }
   ],
   "source": [
    "# Image Slicer Viewer\n",
    "# from https://matplotlib.org/gallery/animation/image_slices_viewer.html\n",
    "\n",
    "import numpy as np\n",
    "import matplotlib.pyplot as plt\n",
    "\n",
    "\n",
    "class IndexTracker(object):\n",
    "    def __init__(self, ax, X):\n",
    "        self.ax = ax\n",
    "        ax.set_title('use scroll wheel to navigate images')\n",
    "\n",
    "        self.X = X\n",
    "        rows, cols, self.slices = X.shape\n",
    "        self.ind = self.slices//2\n",
    "\n",
    "        self.im = ax.imshow(self.X[:, :, self.ind])\n",
    "        self.update()\n",
    "\n",
    "    def onscroll(self, event):\n",
    "        print(\"%s %s\" % (event.button, event.step))\n",
    "        if event.button == 'up':\n",
    "            self.ind = (self.ind + 1) % self.slices\n",
    "        else:\n",
    "            self.ind = (self.ind - 1) % self.slices\n",
    "        self.update()\n",
    "\n",
    "    def update(self):\n",
    "        self.im.set_data(self.X[:, :, self.ind])\n",
    "        ax.set_ylabel('slice %s' % self.ind)\n",
    "        self.im.axes.figure.canvas.draw()\n",
    "\n",
    "\n",
    "fig, ax = plt.subplots(1, 1)\n",
    "\n",
    "X = np.random.rand(20, 20, 40)\n",
    "\n",
    "tracker = IndexTracker(ax, X)\n",
    "#tracker = IndexTracker(ax, )\n",
    "\n",
    "\n",
    "fig.canvas.mpl_connect('scroll_event', tracker.onscroll)\n",
    "plt.show()"
   ]
  },
  {
   "cell_type": "code",
   "execution_count": null,
   "metadata": {},
   "outputs": [],
   "source": []
  },
  {
   "cell_type": "code",
   "execution_count": null,
   "metadata": {},
   "outputs": [],
   "source": []
  },
  {
   "cell_type": "code",
   "execution_count": null,
   "metadata": {},
   "outputs": [],
   "source": []
  },
  {
   "cell_type": "markdown",
   "metadata": {},
   "source": [
    "3D quiver plot -- Demonstrates plotting directional arrows at points on a 3d meshgrid.\n",
    "from https://matplotlib.org/3.2.1/gallery/mplot3d/quiver3d.html"
   ]
  },
  {
   "cell_type": "code",
   "execution_count": 114,
   "metadata": {
    "collapsed": false,
    "jupyter": {
     "outputs_hidden": false
    }
   },
   "outputs": [
    {
     "data": {
      "image/png": "[encoded data removed]",
      "text/plain": [
       "<Figure size 432x288 with 1 Axes>"
      ]
     },
     "metadata": {
      "needs_background": "light"
     },
     "output_type": "display_data"
    }
   ],
   "source": [
    "# %matplotlib inline\n",
    "import matplotlib.pyplot as plt\n",
    "from mpl_toolkits.mplot3d import Axes3D\n",
    "import numpy as np\n",
    "\n",
    "fig = plt.figure()\n",
    "ax = fig.gca(projection='3d')\n",
    "\n",
    "# Make the grid\n",
    "x, y, z = np.meshgrid(np.arange(-0.8, 1, 0.2),\n",
    "                      np.arange(-0.8, 1, 0.2),\n",
    "                      np.arange(-0.8, 1, 0.8))\n",
    "\n",
    "# Make the direction data for the arrows\n",
    "u = np.sin(np.pi * x) * np.cos(np.pi * y) * np.cos(np.pi * z)\n",
    "v = -np.cos(np.pi * x) * np.sin(np.pi * y) * np.cos(np.pi * z)\n",
    "w = (np.sqrt(2.0 / 3.0) * np.cos(np.pi * x) * np.cos(np.pi * y) *\n",
    "     np.sin(np.pi * z))\n",
    "\n",
    "ax.quiver(x, y, z, u, v, w, length=0.1, normalize=True)\n",
    "\n",
    "plt.show()"
   ]
  },
  {
   "cell_type": "code",
   "execution_count": 108,
   "metadata": {},
   "outputs": [
    {
     "ename": "ModuleNotFoundError",
     "evalue": "No module named 'pillow'",
     "output_type": "error",
     "traceback": [
      "\u001b[1;31m---------------------------------------------------------------------------\u001b[0m",
      "\u001b[1;31mModuleNotFoundError\u001b[0m                       Traceback (most recent call last)",
      "\u001b[1;32m<ipython-input-108-124aa24e3ae2>\u001b[0m in \u001b[0;36m<module>\u001b[1;34m\u001b[0m\n\u001b[0;32m      1\u001b[0m \u001b[1;31m# try pillow\u001b[0m\u001b[1;33m\u001b[0m\u001b[1;33m\u001b[0m\u001b[1;33m\u001b[0m\u001b[0m\n\u001b[1;32m----> 2\u001b[1;33m \u001b[1;32mimport\u001b[0m \u001b[0mpillow\u001b[0m\u001b[1;33m\u001b[0m\u001b[1;33m\u001b[0m\u001b[0m\n\u001b[0m",
      "\u001b[1;31mModuleNotFoundError\u001b[0m: No module named 'pillow'"
     ]
    }
   ],
   "source": [
    "# try pillow \n",
    "import pillow"
   ]
  },
  {
   "cell_type": "code",
   "execution_count": null,
   "metadata": {},
   "outputs": [],
   "source": [
    "################ References\n",
    "# https://matplotlib.org/3.1.1/gallery/mplot3d/voxels.html  An easy introduction to 3D plotting with Matplotlib\n",
    "# "
   ]
  },
  {
   "cell_type": "code",
   "execution_count": null,
   "metadata": {},
   "outputs": [],
   "source": []
  },
  {
   "cell_type": "code",
   "execution_count": null,
   "metadata": {},
   "outputs": [],
   "source": []
  },
  {
   "cell_type": "code",
   "execution_count": null,
   "metadata": {},
   "outputs": [],
   "source": []
  },
  {
   "cell_type": "markdown",
   "metadata": {},
   "source": [
    "## Define function to list all files in directory with a specific extension (for later)"
   ]
  },
  {
   "cell_type": "code",
   "execution_count": 24,
   "metadata": {},
   "outputs": [
    {
     "name": "stdout",
     "output_type": "stream",
     "text": [
      "tornado3d.nc\n",
      "tornado3d.nc created 16-Apr-2019 17:36:10\n"
     ]
    }
   ],
   "source": [
    "\n",
    "\n",
    "def list_files(directory, extension):\n",
    "    return (f for f in listdir(directory) if f.endswith('.' + extension))\n",
    "\n",
    "# List each nc file with its creation data and variables\n",
    "for f in list_files(data_path, netCDF_extension):\n",
    "    print(f)\n",
    "    nc = Dataset(data_path + f, \"r\")\n",
    "    nc_dict = nc.__dict__\n",
    "    cdate = nc_dict['creation_date']\n",
    "    vars = \n",
    "    print(f\"{f} created {cdate} with variables {vars}\")\n"
   ]
  }
 ],
 "metadata": {
  "kernelspec": {
   "display_name": "Python 3",
   "language": "python",
   "name": "python3"
  },
  "language_info": {
   "codemirror_mode": {
    "name": "ipython",
    "version": 3
   },
   "file_extension": ".py",
   "mimetype": "text/x-python",
   "name": "python",
   "nbconvert_exporter": "python",
   "pygments_lexer": "ipython3",
   "version": "3.7.7"
  }
 },
 "nbformat": 4,
 "nbformat_minor": 4
}
