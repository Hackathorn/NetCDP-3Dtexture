{
 "cells": [
  {
   "cell_type": "markdown",
   "metadata": {},
   "source": [
    "<img align=\"right\" width=\"200\" height=\"200\" src=\"\\Images\\tornado3d.prn\">\n",
    "\n",
    "# Using NetCDF File To Create 3D Textures\n",
    "\n",
    "Dervived from tutorial at https://unidata.github.io/netcdf4-python/netCDF4/ \n",
    "\n",
    "Example NetCDF dataset is a synthetic tornado 'tornado3d.nc' taken from https://cgl.ethz.ch/research/visualization/data.php\n",
    "\n",
    "NOTE: might consider Xarray "
   ]
  },
  {
   "cell_type": "markdown",
   "metadata": {},
   "source": [
    "## Read the NetCDF Dataset as NC object\n",
    "\n",
    "- Import requrired modules/packages\n",
    "- Scan for NC files in /data folder\n",
    "- Open a sample NC file & explore groups, dimensions, variables\n",
    "- "
   ]
  },
  {
   "cell_type": "code",
   "execution_count": 1,
   "metadata": {},
   "outputs": [],
   "source": [
    "# Import required modules\n",
    "\n",
    "from os import listdir\n",
    "import datetime as dt  # Python standard library datetime  module\n",
    "import numpy as np\n",
    "from netCDF4 import Dataset  \n",
    "\n",
    "# define config constant (to be parms in code)\n",
    "data_path = \"../data/\"\n",
    "netCDF_extension = \"nc\""
   ]
  },
  {
   "cell_type": "code",
   "execution_count": 24,
   "metadata": {},
   "outputs": [
    {
     "name": "stdout",
     "output_type": "stream",
     "text": [
      "tornado3d.nc\n",
      "tornado3d.nc created 16-Apr-2019 17:36:10\n"
     ]
    }
   ],
   "source": [
    "# Define function to list all files in directory with a specific extension \n",
    "\n",
    "def list_files(directory, extension):\n",
    "    return (f for f in listdir(directory) if f.endswith('.' + extension))\n",
    "\n",
    "# List each nc file with its creation data and variables\n",
    "for f in list_files(data_path, netCDF_extension):\n",
    "    print(f)\n",
    "    nc = Dataset(data_path + f, \"r\")\n",
    "    nc_dict = nc.__dict__\n",
    "    cdate = nc_dict['creation_date']\n",
    "    vars = \n",
    "    print(f\"{f} created {cdate} with variables {vars}\")\n"
   ]
  },
  {
   "cell_type": "code",
   "execution_count": null,
   "metadata": {},
   "outputs": [],
   "source": [
    "nc.keys()"
   ]
  },
  {
   "cell_type": "code",
   "execution_count": 8,
   "metadata": {},
   "outputs": [
    {
     "data": {
      "text/plain": [
       "<class 'netCDF4._netCDF4.Dataset'>\n",
       "root group (NETCDF4 data model, file format HDF5):\n",
       "    creation_date: 16-Apr-2019 17:36:10\n",
       "    grid: regular\n",
       "    dimensions(sizes): xdim(128), ydim(128), zdim(128), const(1)\n",
       "    variables(dimensions): float32 u(zdim,ydim,xdim), float32 v(zdim,ydim,xdim), float32 w(zdim,ydim,xdim), float32 xdim(xdim), float32 ydim(ydim), float32 zdim(zdim)\n",
       "    groups: "
      ]
     },
     "execution_count": 8,
     "metadata": {},
     "output_type": "execute_result"
    }
   ],
   "source": [
    "# Open NC dataset as binary\n",
    "\n",
    "nc = Dataset(\"../data/tornado3d.nc\", \"r\")\n",
    "nc"
   ]
  },
  {
   "cell_type": "code",
   "execution_count": 21,
   "metadata": {},
   "outputs": [
    {
     "data": {
      "text/plain": [
       "{'creation_date': '16-Apr-2019 17:36:10', 'grid': 'regular'}"
      ]
     },
     "execution_count": 21,
     "metadata": {},
     "output_type": "execute_result"
    }
   ],
   "source": [
    "nc.__dict__"
   ]
  },
  {
   "cell_type": "code",
   "execution_count": null,
   "metadata": {},
   "outputs": [],
   "source": [
    "# List groups within dataset. Seems only one unnamed group \n",
    "nc.groups"
   ]
  },
  {
   "cell_type": "code",
   "execution_count": null,
   "metadata": {},
   "outputs": [],
   "source": [
    "# Get the filepath to the NC file\n",
    "nc.filepath()"
   ]
  },
  {
   "cell_type": "code",
   "execution_count": 9,
   "metadata": {},
   "outputs": [
    {
     "data": {
      "text/plain": [
       "['creation_date', 'grid']"
      ]
     },
     "execution_count": 9,
     "metadata": {},
     "output_type": "execute_result"
    }
   ],
   "source": [
    "# Get the attributes from NC file; different than variables & dimensions\n",
    "nc.ncattrs()"
   ]
  },
  {
   "cell_type": "code",
   "execution_count": 26,
   "metadata": {},
   "outputs": [
    {
     "data": {
      "text/plain": [
       "'regular'"
      ]
     },
     "execution_count": 26,
     "metadata": {},
     "output_type": "execute_result"
    }
   ],
   "source": [
    "# uninteresting...\n",
    "nc.grid"
   ]
  },
  {
   "cell_type": "code",
   "execution_count": 32,
   "metadata": {},
   "outputs": [
    {
     "data": {
      "text/plain": [
       "{'xdim': <class 'netCDF4._netCDF4.Dimension'>: name = 'xdim', size = 128,\n",
       " 'ydim': <class 'netCDF4._netCDF4.Dimension'>: name = 'ydim', size = 128,\n",
       " 'zdim': <class 'netCDF4._netCDF4.Dimension'>: name = 'zdim', size = 128,\n",
       " 'const': <class 'netCDF4._netCDF4.Dimension'>: name = 'const', size = 1}"
      ]
     },
     "execution_count": 32,
     "metadata": {},
     "output_type": "execute_result"
    }
   ],
   "source": [
    "# interesting... dimensions for each of the nc variables\n",
    "nc.dimensions"
   ]
  },
  {
   "cell_type": "code",
   "execution_count": 35,
   "metadata": {},
   "outputs": [
    {
     "data": {
      "text/plain": [
       "\"<class 'netCDF4._netCDF4.Dimension'>: name = 'xdim', size = 128\""
      ]
     },
     "execution_count": 35,
     "metadata": {},
     "output_type": "execute_result"
    }
   ],
   "source": [
    "str(nc.dimensions['xdim'])"
   ]
  },
  {
   "cell_type": "code",
   "execution_count": 28,
   "metadata": {},
   "outputs": [
    {
     "data": {
      "text/plain": [
       "<class 'netCDF4._netCDF4.Dimension'>: name = 'xdim', size = 128"
      ]
     },
     "execution_count": 28,
     "metadata": {},
     "output_type": "execute_result"
    }
   ],
   "source": [
    "nc.dimensions['xdim']"
   ]
  },
  {
   "cell_type": "code",
   "execution_count": 25,
   "metadata": {},
   "outputs": [
    {
     "data": {
      "text/plain": [
       "dict_keys(['u', 'v', 'w', 'xdim', 'ydim', 'zdim'])"
      ]
     },
     "execution_count": 25,
     "metadata": {},
     "output_type": "execute_result"
    }
   ],
   "source": [
    "nc.variables.keys()"
   ]
  },
  {
   "cell_type": "code",
   "execution_count": 36,
   "metadata": {},
   "outputs": [
    {
     "data": {
      "text/plain": [
       "<class 'netCDF4._netCDF4.Variable'>\n",
       "float32 u(zdim, ydim, xdim)\n",
       "    long_name: u velocity component\n",
       "    units: dimensionless space / dimensionless time\n",
       "unlimited dimensions: \n",
       "current shape = (128, 128, 128)\n",
       "filling on, default _FillValue of 9.969209968386869e+36 used"
      ]
     },
     "execution_count": 36,
     "metadata": {},
     "output_type": "execute_result"
    }
   ],
   "source": [
    "# deinition for a nc variable\n",
    "nc.variables['u']"
   ]
  },
  {
   "cell_type": "code",
   "execution_count": 37,
   "metadata": {},
   "outputs": [
    {
     "data": {
      "text/plain": [
       "masked_array(data=[-10.        ,  -9.84252   ,  -9.6850395 ,  -9.527559  ,\n",
       "                    -9.370079  ,  -9.212599  ,  -9.055119  ,  -8.897638  ,\n",
       "                    -8.740157  ,  -8.582677  ,  -8.425197  ,  -8.267716  ,\n",
       "                    -8.110236  ,  -7.952756  ,  -7.7952757 ,  -7.6377954 ,\n",
       "                    -7.480315  ,  -7.322835  ,  -7.1653543 ,  -7.007874  ,\n",
       "                    -6.850394  ,  -6.692913  ,  -6.535433  ,  -6.3779526 ,\n",
       "                    -6.2204723 ,  -6.062992  ,  -5.905512  ,  -5.7480316 ,\n",
       "                    -5.5905514 ,  -5.4330707 ,  -5.2755904 ,  -5.11811   ,\n",
       "                    -4.96063   ,  -4.8031497 ,  -4.6456695 ,  -4.4881887 ,\n",
       "                    -4.3307085 ,  -4.1732283 ,  -4.015748  ,  -3.8582678 ,\n",
       "                    -3.7007875 ,  -3.5433073 ,  -3.3858266 ,  -3.2283463 ,\n",
       "                    -3.070866  ,  -2.9133859 ,  -2.7559056 ,  -2.5984254 ,\n",
       "                    -2.4409447 ,  -2.2834644 ,  -2.1259842 ,  -1.968504  ,\n",
       "                    -1.8110237 ,  -1.6535435 ,  -1.4960632 ,  -1.338583  ,\n",
       "                    -1.1811028 ,  -1.0236225 ,  -0.8661413 ,  -0.7086611 ,\n",
       "                    -0.55118084,  -0.3937006 ,  -0.23622036,  -0.07874012,\n",
       "                     0.07874012,   0.23622036,   0.3937006 ,   0.55118084,\n",
       "                     0.7086611 ,   0.8661413 ,   1.0236225 ,   1.1811028 ,\n",
       "                     1.338583  ,   1.4960632 ,   1.6535435 ,   1.8110237 ,\n",
       "                     1.968504  ,   2.1259842 ,   2.2834644 ,   2.4409447 ,\n",
       "                     2.598425  ,   2.7559052 ,   2.9133854 ,   3.0708666 ,\n",
       "                     3.2283468 ,   3.385827  ,   3.5433073 ,   3.7007875 ,\n",
       "                     3.8582678 ,   4.015748  ,   4.1732283 ,   4.3307085 ,\n",
       "                     4.4881887 ,   4.645669  ,   4.803149  ,   4.9606295 ,\n",
       "                     5.1181107 ,   5.275591  ,   5.433071  ,   5.5905514 ,\n",
       "                     5.7480316 ,   5.905512  ,   6.062992  ,   6.2204723 ,\n",
       "                     6.3779526 ,   6.535433  ,   6.692913  ,   6.8503933 ,\n",
       "                     7.0078735 ,   7.165354  ,   7.322834  ,   7.4803143 ,\n",
       "                     7.6377945 ,   7.7952747 ,   7.952755  ,   8.110237  ,\n",
       "                     8.267717  ,   8.425198  ,   8.582678  ,   8.740158  ,\n",
       "                     8.897638  ,   9.055119  ,   9.212599  ,   9.370079  ,\n",
       "                     9.527559  ,   9.6850395 ,   9.84252   ,  10.        ],\n",
       "             mask=False,\n",
       "       fill_value=1e+20,\n",
       "            dtype=float32)"
      ]
     },
     "execution_count": 37,
     "metadata": {},
     "output_type": "execute_result"
    }
   ],
   "source": [
    "nc.variables['xdim'][:]"
   ]
  },
  {
   "cell_type": "code",
   "execution_count": 38,
   "metadata": {},
   "outputs": [
    {
     "name": "stdout",
     "output_type": "stream",
     "text": [
      "{'long_name': 'u velocity component', 'units': 'dimensionless space / dimensionless time'}\n"
     ]
    },
    {
     "data": {
      "text/plain": [
       "{'long_name': 'u velocity component',\n",
       " 'units': 'dimensionless space / dimensionless time'}"
      ]
     },
     "execution_count": 38,
     "metadata": {},
     "output_type": "execute_result"
    }
   ],
   "source": [
    "# can view nc variable definitions as python dict types\n",
    "print(nc.variables['u'].__dict__)\n",
    "nc.variables['u'].__dict__"
   ]
  },
  {
   "cell_type": "code",
   "execution_count": 39,
   "metadata": {},
   "outputs": [
    {
     "data": {
      "text/plain": [
       "(128, 128, 128)"
      ]
     },
     "execution_count": 39,
     "metadata": {},
     "output_type": "execute_result"
    }
   ],
   "source": [
    "# found those wind velocity components u, v, w\n",
    "u_values = nc.variables['u']\n",
    "uvw_shape = u_values[:].shape\n",
    "uvw_shape"
   ]
  },
  {
   "cell_type": "code",
   "execution_count": 40,
   "metadata": {},
   "outputs": [
    {
     "data": {
      "text/plain": [
       "masked_array(\n",
       "  data=[[[-0.12064955, -0.07151286, -0.02303854],\n",
       "         [-0.09261279, -0.0440758 ,  0.00379927],\n",
       "         [-0.0663334 , -0.01840326,  0.02886489]],\n",
       "\n",
       "        [[-0.17783952, -0.12839155, -0.07959759],\n",
       "         [-0.14951353, -0.10066123, -0.05246288],\n",
       "         [-0.12292203, -0.07467212, -0.02707703]],\n",
       "\n",
       "        [[-0.233512  , -0.18378523, -0.13470495],\n",
       "         [-0.2049461 , -0.1558115 , -0.10732347],\n",
       "         [-0.17809317, -0.1295573 , -0.08166791]]],\n",
       "  mask=False,\n",
       "  fill_value=1e+20,\n",
       "  dtype=float32)"
      ]
     },
     "execution_count": 40,
     "metadata": {},
     "output_type": "execute_result"
    }
   ],
   "source": [
    "# can work with nc variables like numpy\n",
    "u_values[:3, :3, :3]"
   ]
  },
  {
   "cell_type": "code",
   "execution_count": 41,
   "metadata": {},
   "outputs": [
    {
     "name": "stdout",
     "output_type": "stream",
     "text": [
      "<class 'numpy.ndarray'> (128, 128, 128)\n"
     ]
    }
   ],
   "source": [
    "# can also explicitly convert nc variables into numpy; may not be needed\n",
    "u = np.array(u_values)\n",
    "print(type(u), u.shape)"
   ]
  },
  {
   "cell_type": "markdown",
   "metadata": {},
   "source": [
    "## Find min-max of u-v-w velocities"
   ]
  },
  {
   "cell_type": "code",
   "execution_count": 43,
   "metadata": {},
   "outputs": [],
   "source": [
    "u = np.array(nc.variables['u'])\n",
    "v = np.array(nc.variables['v'])\n",
    "w = np.array(nc.variables['w'])"
   ]
  },
  {
   "cell_type": "code",
   "execution_count": 44,
   "metadata": {},
   "outputs": [
    {
     "name": "stdout",
     "output_type": "stream",
     "text": [
      "(128, 128, 128) (128, 128, 128) (128, 128, 128)\n"
     ]
    }
   ],
   "source": [
    "print(u.shape, v.shape, w.shape)"
   ]
  },
  {
   "cell_type": "code",
   "execution_count": null,
   "metadata": {},
   "outputs": [],
   "source": [
    "uvw_min = min((u.min(), v.min(), w.min()))\n",
    "uvw_min"
   ]
  },
  {
   "cell_type": "code",
   "execution_count": null,
   "metadata": {},
   "outputs": [],
   "source": [
    "uvw_max = max((u.max(), v.max(), w.max()))\n",
    "uvw_max"
   ]
  },
  {
   "cell_type": "markdown",
   "metadata": {},
   "source": [
    "## Normalize and scale 255 for color\n",
    "\n",
    "using x_norm = 256*(X-uvw_min)/(uvw_max-uvw_min)"
   ]
  },
  {
   "cell_type": "code",
   "execution_count": null,
   "metadata": {},
   "outputs": [],
   "source": [
    "u_norm = (255 * (u/(uvw_max-uvw_min) - (uvw_min/(uvw_max-uvw_min)))).astype(np.int)\n",
    "v_norm = (255 * (v/(uvw_max-uvw_min) - (uvw_min/(uvw_max-uvw_min)))).astype(np.int)\n",
    "w_norm = (255 * (w/(uvw_max-uvw_min) - (uvw_min/(uvw_max-uvw_min)))).astype(np.int)\n",
    "\n",
    "print(u_norm[:2,:2,:2])\n",
    "print(v_norm[:2,:2,:2])\n",
    "print(w_norm[:2,:2,:2])"
   ]
  }
 ],
 "metadata": {
  "kernelspec": {
   "display_name": "Python 3",
   "language": "python",
   "name": "python3"
  },
  "language_info": {
   "codemirror_mode": {
    "name": "ipython",
    "version": 3
   },
   "file_extension": ".py",
   "mimetype": "text/x-python",
   "name": "python",
   "nbconvert_exporter": "python",
   "pygments_lexer": "ipython3",
   "version": "3.7.7"
  }
 },
 "nbformat": 4,
 "nbformat_minor": 4
}
