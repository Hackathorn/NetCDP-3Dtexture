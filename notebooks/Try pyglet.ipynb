{
 "cells": [
  {
   "cell_type": "markdown",
   "metadata": {},
   "source": [
    "## Experiment with pyglet\n",
    "\n",
    "http://pyglet.org/ \n",
    "\n",
    "https://pyglet.readthedocs.io/en/latest/\n",
    "\n",
    "https://pyglet.readthedocs.io/en/latest/modules/image/index.html\n",
    "\n",
    "https://pythonhosted.org/pyglet/api/pyglet.image.Texture3D-class.html\n",
    "\n",
    "https://github.com/pyglet/pyglet"
   ]
  },
  {
   "cell_type": "markdown",
   "metadata": {},
   "source": [
    "## Import, load & save"
   ]
  },
  {
   "cell_type": "code",
   "execution_count": null,
   "metadata": {},
   "outputs": [],
   "source": [
    "import pyglet"
   ]
  },
  {
   "cell_type": "code",
   "execution_count": null,
   "metadata": {},
   "outputs": [],
   "source": [
    "tornado = pyglet.image.load('tornado3d.jpg') \n",
    "tornado"
   ]
  },
  {
   "cell_type": "code",
   "execution_count": null,
   "metadata": {},
   "outputs": [],
   "source": [
    "tornado.save('torando3d.png')"
   ]
  },
  {
   "cell_type": "markdown",
   "metadata": {},
   "source": [
    "## Let's create and save a 3Dtexture with pyglet"
   ]
  },
  {
   "cell_type": "code",
   "execution_count": null,
   "metadata": {},
   "outputs": [],
   "source": [
    "# create image slices k for each w\n",
    "for k in range(uvw_shape(2)):\n",
    "    slice(k) = pyglet.image.create(uvw_shape(0), uvw_shape(1))\n",
    "    # set pixels in slice(k)\n",
    "    for i in range(uvw_shape(0)):\n",
    "        for j in range (uvw_shape(1)):\n",
    "            #set red-blue-green colors in pixel(i,j,k) to u_norm[i,j,k], v_norm[i,j,k], w_norm[i,j,k]"
   ]
  },
  {
   "cell_type": "code",
   "execution_count": null,
   "metadata": {},
   "outputs": [],
   "source": [
    "from http.server import HTTPServer\n",
    "from server import Server"
   ]
  }
 ],
 "metadata": {
  "kernelspec": {
   "display_name": "Python 3",
   "language": "python",
   "name": "python3"
  },
  "language_info": {
   "codemirror_mode": {
    "name": "ipython",
    "version": 3
   },
   "file_extension": ".py",
   "mimetype": "text/x-python",
   "name": "python",
   "nbconvert_exporter": "python",
   "pygments_lexer": "ipython3",
   "version": "3.7.7"
  }
 },
 "nbformat": 4,
 "nbformat_minor": 4
}
